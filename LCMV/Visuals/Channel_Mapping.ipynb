{
 "cells": [
  {
   "cell_type": "code",
   "execution_count": 11,
   "id": "d6500862",
   "metadata": {},
   "outputs": [
    {
     "name": "stdout",
     "output_type": "stream",
     "text": [
      "Parsed 284 channels from /home/jaizor/jaizor/xtra/data/ghw280_from_egig.gpsc\n",
      "\n",
      "📊 TOTAL CHANNELS: 284\n",
      "📍 SUCCESSFULLY MAPPED: 284\n",
      "\n",
      "🎯 ANATOMICAL REGION DISTRIBUTION:\n",
      "--------------------------------------------------\n",
      "Frontal         :  74 channels ( 26.1%)\n",
      "Central         :  48 channels ( 16.9%)\n",
      "Parietal        :  29 channels ( 10.2%)\n",
      "Occipital       :  55 channels ( 19.4%)\n",
      "Temporal        :  65 channels ( 22.9%)\n",
      "Vertex          :   4 channels (  1.4%)\n",
      "Mastoid         :   6 channels (  2.1%)\n",
      "Other           :   3 channels (  1.1%)\n",
      "\n",
      "👁️ YOUR CUSTOM CHANNELS:\n",
      "------------------------------\n",
      "  Blinks:      E274 (left), E41 (right)\n",
      "  Facial EMG:  E280 (left), E52 (right)\n",
      "  Ground/VEOG: E32\n"
     ]
    },
    {
     "data": {
      "application/vnd.plotly.v1+json": {
       "config": {
        "plotlyServerURL": "https://plot.ly"
       },
       "data": [
        {
         "hovertemplate": "<b>%{text}</b><br>X: %{x:.1f}<br>Y: %{y:.1f}<br>Z: %{z:.1f}<extra></extra>",
         "marker": {
          "color": "#FF6B6B",
          "opacity": 0.9,
          "size": 6,
          "symbol": "circle"
         },
         "mode": "markers+text",
         "name": "Frontal (74)",
         "text": [
          "Fz",
          "F2",
          "F3",
          "F4",
          "F5",
          "F6",
          "F7",
          "F8",
          "F9",
          "F0",
          "F1",
          "F2",
          "F3",
          "F4",
          "F5",
          "F6",
          "F7",
          "F8",
          "F9",
          "F0",
          "F1",
          "F2",
          "F3",
          "F4",
          "F5",
          "F6",
          "F7",
          "F8",
          "F9",
          "F0",
          "F1",
          "F2",
          "F3",
          "F4",
          "F5",
          "F6",
          "F9",
          "F0",
          "F1",
          "F2",
          "F6",
          "F7",
          "F8",
          "F0",
          "F1",
          "F2",
          "F3",
          "F4",
          "F0",
          "F1",
          "F2",
          "F3",
          "F1",
          "F2",
          "F5",
          "F6",
          "F7",
          "F8",
          "F9",
          "F3",
          "F4",
          "F8",
          "F9",
          "F0",
          "F1",
          "F7",
          "F8",
          "F9",
          "F0",
          "F1",
          "F2",
          "F8",
          "F9",
          "F0"
         ],
         "textfont": {
          "color": "white",
          "size": 10
         },
         "textposition": "top center",
         "type": "scatter3d",
         "x": [
          99,
          107,
          114,
          99,
          82,
          89,
          100,
          117,
          125,
          130,
          115,
          100,
          82,
          66,
          70,
          80,
          91,
          109,
          127,
          136,
          142,
          145,
          131,
          118,
          102,
          83,
          66,
          52,
          55,
          60,
          74,
          103,
          155,
          132,
          68,
          46,
          171,
          163,
          147,
          136,
          178,
          178,
          185,
          169,
          171,
          169,
          176,
          183,
          157,
          159,
          158,
          167,
          146,
          145,
          102,
          70,
          85,
          119,
          131,
          24,
          30,
          22,
          30,
          39,
          39,
          20,
          27,
          34,
          39,
          53,
          54,
          41,
          53,
          67
         ],
         "y": [
          194,
          203,
          191,
          181,
          189,
          202,
          208,
          207,
          198,
          185,
          178,
          167,
          176,
          181,
          197,
          206,
          207,
          207,
          205,
          202,
          190,
          173,
          167,
          161,
          149,
          159,
          163,
          169,
          185,
          197,
          204,
          206,
          189,
          147,
          145,
          183,
          161,
          175,
          195,
          180,
          128,
          143,
          125,
          130,
          145,
          160,
          152,
          135,
          144,
          159,
          176,
          169,
          136,
          156,
          131,
          127,
          142,
          141,
          127,
          126,
          139,
          133,
          150,
          153,
          135,
          131,
          147,
          162,
          168,
          150,
          130,
          172,
          190,
          181
         ],
         "z": [
          201,
          186,
          204,
          216,
          203,
          185,
          169,
          170,
          190,
          206,
          218,
          226,
          216,
          204,
          186,
          171,
          149,
          149,
          156,
          174,
          193,
          209,
          221,
          229,
          237,
          229,
          219,
          204,
          188,
          167,
          152,
          129,
          171,
          232,
          231,
          166,
          147,
          149,
          154,
          93,
          199,
          181,
          181,
          215,
          199,
          187,
          163,
          161,
          220,
          207,
          191,
          167,
          230,
          222,
          244,
          239,
          239,
          239,
          240,
          195,
          197,
          179,
          182,
          202,
          214,
          159,
          161,
          163,
          186,
          219,
          229,
          147,
          149,
          90
         ]
        },
        {
         "hovertemplate": "<b>%{text}</b><br>X: %{x:.1f}<br>Y: %{y:.1f}<br>Z: %{z:.1f}<extra></extra>",
         "marker": {
          "color": "#4ECDC4",
          "opacity": 0.9,
          "size": 6,
          "symbol": "circle"
         },
         "mode": "markers+text",
         "name": "Central (48)",
         "text": [
          "C4",
          "C5",
          "C6",
          "C7",
          "C8",
          "C9",
          "C5",
          "C6",
          "C7",
          "C8",
          "C9",
          "C0",
          "C3",
          "C4",
          "C1",
          "C1",
          "C2",
          "C7",
          "C9",
          "C1",
          "C2",
          "C3",
          "C4",
          "C6",
          "C7",
          "C8",
          "C9",
          "C3",
          "C4",
          "C5",
          "C0",
          "C1",
          "C2",
          "C9",
          "C0",
          "C1",
          "C5",
          "C6",
          "C7",
          "C2",
          "C3",
          "C4",
          "C5",
          "C6",
          "C3",
          "C4",
          "C5",
          "C6"
         ],
         "textfont": {
          "color": "white",
          "size": 10
         },
         "textposition": "top center",
         "type": "scatter3d",
         "x": [
          182,
          187,
          187,
          184,
          174,
          157,
          189,
          187,
          184,
          176,
          160,
          144,
          187,
          160,
          181,
          173,
          183,
          84,
          116,
          77,
          70,
          72,
          85,
          118,
          132,
          125,
          118,
          58,
          53,
          57,
          144,
          142,
          37,
          27,
          18,
          17,
          29,
          18,
          17,
          42,
          26,
          16,
          14,
          15,
          37,
          24,
          15,
          14
         ],
         "y": [
          112,
          117,
          108,
          95,
          108,
          121,
          97,
          87,
          78,
          90,
          100,
          116,
          80,
          79,
          69,
          71,
          68,
          99,
          102,
          65,
          82,
          107,
          121,
          121,
          108,
          85,
          68,
          68,
          88,
          110,
          94,
          73,
          72,
          65,
          70,
          73,
          120,
          107,
          116,
          114,
          102,
          89,
          99,
          111,
          93,
          82,
          81,
          90
         ],
         "z": [
          203,
          161,
          184,
          205,
          219,
          229,
          166,
          184,
          207,
          223,
          234,
          238,
          167,
          238,
          151,
          224,
          187,
          250,
          250,
          251,
          250,
          246,
          245,
          245,
          245,
          251,
          252,
          246,
          243,
          238,
          245,
          247,
          233,
          220,
          203,
          161,
          210,
          196,
          177,
          227,
          216,
          199,
          178,
          158,
          230,
          220,
          182,
          159
         ]
        },
        {
         "hovertemplate": "<b>%{text}</b><br>X: %{x:.1f}<br>Y: %{y:.1f}<br>Z: %{z:.1f}<extra></extra>",
         "marker": {
          "color": "#45B7D1",
          "opacity": 0.9,
          "size": 6,
          "symbol": "circle"
         },
         "mode": "markers+text",
         "name": "Parietal (29)",
         "text": [
          "P4",
          "P5",
          "P9",
          "P0",
          "P1",
          "P2",
          "P3",
          "P9",
          "P0",
          "P3",
          "P4",
          "P1",
          "P2",
          "Pz",
          "P0",
          "P1",
          "P2",
          "P8",
          "P9",
          "P0",
          "P6",
          "P7",
          "P8",
          "P0",
          "P1",
          "P7",
          "P8",
          "P9",
          "P3"
         ],
         "textfont": {
          "color": "white",
          "size": 10
         },
         "textposition": "top center",
         "type": "scatter3d",
         "x": [
          174,
          168,
          152,
          164,
          177,
          176,
          171,
          142,
          153,
          179,
          165,
          121,
          129,
          99,
          108,
          88,
          68,
          35,
          37,
          59,
          31,
          26,
          23,
          47,
          78,
          29,
          22,
          18,
          22
         ],
         "y": [
          51,
          43,
          38,
          52,
          58,
          49,
          41,
          46,
          60,
          59,
          36,
          38,
          56,
          37,
          50,
          50,
          51,
          38,
          48,
          41,
          39,
          45,
          54,
          55,
          39,
          47,
          55,
          61,
          60
         ],
         "z": [
          153,
          208,
          224,
          225,
          209,
          189,
          171,
          238,
          239,
          170,
          154,
          239,
          247,
          240,
          247,
          247,
          243,
          204,
          220,
          234,
          166,
          187,
          205,
          235,
          240,
          150,
          166,
          184,
          147
         ]
        },
        {
         "hovertemplate": "<b>%{text}</b><br>X: %{x:.1f}<br>Y: %{y:.1f}<br>Z: %{z:.1f}<extra></extra>",
         "marker": {
          "color": "#96CEB4",
          "opacity": 0.9,
          "size": 6,
          "symbol": "circle"
         },
         "mode": "markers+text",
         "name": "Occipital (55)",
         "text": [
          "O2",
          "O6",
          "O7",
          "O8",
          "O4",
          "O5",
          "O6",
          "O7",
          "O8",
          "O5",
          "O6",
          "O7",
          "Oz",
          "O9",
          "O0",
          "O3",
          "O5",
          "O6",
          "O7",
          "O8",
          "O9",
          "O0",
          "O1",
          "O2",
          "O3",
          "O4",
          "O5",
          "O6",
          "O7",
          "O8",
          "O9",
          "O0",
          "O1",
          "O2",
          "O6",
          "O7",
          "O8",
          "O9",
          "O2",
          "O3",
          "O3",
          "O4",
          "O5",
          "O6",
          "O7",
          "O1",
          "O2",
          "O3",
          "O4",
          "O5",
          "O2",
          "O3",
          "O4",
          "O5",
          "O6"
         ],
         "textfont": {
          "color": "white",
          "size": 10
         },
         "textposition": "top center",
         "type": "scatter3d",
         "x": [
          155,
          165,
          150,
          140,
          158,
          143,
          133,
          123,
          132,
          150,
          132,
          123,
          114,
          102,
          110,
          103,
          103,
          112,
          120,
          104,
          86,
          94,
          103,
          123,
          128,
          133,
          127,
          104,
          82,
          70,
          74,
          82,
          89,
          112,
          131,
          106,
          80,
          65,
          62,
          69,
          48,
          51,
          64,
          54,
          37,
          68,
          82,
          72,
          61,
          43,
          89,
          93,
          81,
          52,
          40
         ],
         "y": [
          29,
          34,
          22,
          24,
          27,
          17,
          16,
          18,
          31,
          22,
          11,
          10,
          12,
          16,
          25,
          7,
          19,
          14,
          19,
          21,
          20,
          16,
          8,
          12,
          17,
          24,
          27,
          23,
          25,
          26,
          18,
          11,
          5,
          7,
          32,
          26,
          30,
          34,
          18,
          10,
          27,
          34,
          20,
          19,
          30,
          28,
          17,
          12,
          14,
          25,
          25,
          10,
          8,
          20,
          31
         ],
         "z": [
          206,
          190,
          191,
          211,
          171,
          173,
          194,
          212,
          228,
          156,
          157,
          175,
          196,
          212,
          227,
          176,
          104,
          121,
          101,
          89,
          102,
          121,
          138,
          137,
          120,
          102,
          80,
          76,
          81,
          99,
          118,
          137,
          155,
          156,
          64,
          59,
          57,
          80,
          135,
          154,
          204,
          220,
          206,
          185,
          184,
          225,
          210,
          189,
          171,
          171,
          228,
          194,
          175,
          153,
          149
         ]
        },
        {
         "hovertemplate": "<b>%{text}</b><br>X: %{x:.1f}<br>Y: %{y:.1f}<br>Z: %{z:.1f}<extra></extra>",
         "marker": {
          "color": "#FECA57",
          "opacity": 0.9,
          "size": 6,
          "symbol": "circle"
         },
         "mode": "markers+text",
         "name": "Temporal (65)",
         "text": [
          "T8",
          "TP8",
          "TP8",
          "TP8",
          "TP8",
          "TP8",
          "TP8",
          "TP8",
          "TP8",
          "TP8",
          "TP8",
          "TP8",
          "TP8",
          "TP8",
          "TP8",
          "TP8",
          "TP8",
          "TP8",
          "TP8",
          "TP8",
          "TP8",
          "TP8",
          "TP8",
          "TP8",
          "TP8",
          "TP8",
          "TP8",
          "TP8",
          "TP8",
          "TP8",
          "TP8",
          "TP8",
          "TP8",
          "T7",
          "TP7",
          "TP7",
          "TP7",
          "TP7",
          "TP7",
          "TP7",
          "TP7",
          "TP7",
          "TP7",
          "TP7",
          "TP7",
          "TP7",
          "TP7",
          "TP7",
          "TP7",
          "TP7",
          "TP7",
          "TP7",
          "TP7",
          "TP7",
          "TP7",
          "TP7",
          "TP7",
          "TP7",
          "TP7",
          "TP7",
          "TP7",
          "TP7",
          "TP7",
          "TP7",
          "TP7"
         ],
         "textfont": {
          "color": "white",
          "size": 10
         },
         "textposition": "top center",
         "type": "scatter3d",
         "x": [
          164,
          168,
          171,
          173,
          167,
          149,
          153,
          163,
          174,
          177,
          178,
          158,
          182,
          185,
          164,
          173,
          170,
          163,
          156,
          169,
          177,
          169,
          164,
          159,
          155,
          145,
          158,
          169,
          148,
          157,
          141,
          144,
          145,
          55,
          60,
          59,
          48,
          32,
          26,
          34,
          44,
          40,
          34,
          30,
          17,
          35,
          46,
          50,
          47,
          44,
          36,
          30,
          26,
          48,
          21,
          26,
          32,
          39,
          35,
          30,
          29,
          37,
          53,
          50,
          40
         ],
         "y": [
          160,
          145,
          145,
          149,
          166,
          169,
          151,
          136,
          125,
          131,
          143,
          120,
          125,
          106,
          58,
          98,
          83,
          68,
          45,
          57,
          67,
          120,
          103,
          69,
          53,
          34,
          40,
          48,
          48,
          32,
          21,
          27,
          40,
          37,
          26,
          45,
          29,
          65,
          57,
          53,
          49,
          64,
          80,
          94,
          100,
          43,
          39,
          49,
          61,
          100,
          111,
          119,
          128,
          119,
          118,
          137,
          154,
          157,
          138,
          138,
          146,
          163,
          168,
          149,
          129
         ],
         "z": [
          105,
          85,
          105,
          125,
          129,
          73,
          62,
          68,
          91,
          127,
          144,
          53,
          144,
          144,
          102,
          79,
          78,
          85,
          102,
          120,
          135,
          76,
          63,
          67,
          83,
          102,
          122,
          135,
          66,
          136,
          137,
          121,
          81,
          97,
          116,
          61,
          133,
          102,
          132,
          115,
          96,
          84,
          76,
          73,
          142,
          134,
          114,
          79,
          60,
          54,
          69,
          89,
          123,
          50,
          140,
          137,
          142,
          99,
          83,
          104,
          122,
          127,
          72,
          60,
          67
         ]
        },
        {
         "hovertemplate": "<b>%{text}</b><br>X: %{x:.1f}<br>Y: %{y:.1f}<br>Z: %{z:.1f}<extra></extra>",
         "marker": {
          "color": "#6C5CE7",
          "opacity": 0.9,
          "size": 8,
          "symbol": "circle"
         },
         "mode": "markers+text",
         "name": "Mastoid (6)",
         "text": [
          "M2",
          "M2",
          "M2",
          "M1",
          "M1",
          "M1"
         ],
         "textfont": {
          "color": "white",
          "size": 10
         },
         "textposition": "top center",
         "type": "scatter3d",
         "x": [
          175,
          179,
          177,
          26,
          27,
          23
         ],
         "y": [
          124,
          114,
          109,
          101,
          116,
          106
         ],
         "z": [
          109,
          128,
          95,
          93,
          108,
          125
         ]
        },
        {
         "hovertemplate": "<b>%{text}</b><br>X: %{x:.1f}<br>Y: %{y:.1f}<br>Z: %{z:.1f}<extra></extra>",
         "marker": {
          "color": "#2D3436",
          "opacity": 0.9,
          "size": 8,
          "symbol": "diamond"
         },
         "mode": "markers+text",
         "name": "Vertex (4)",
         "text": [
          "Cz",
          "Cz",
          "Cz",
          "Cz"
         ],
         "textfont": {
          "color": "white",
          "size": 10
         },
         "textposition": "top center",
         "type": "scatter3d",
         "x": [
          88,
          102,
          108,
          101
         ],
         "y": [
          79,
          113,
          81,
          96
         ],
         "z": [
          253,
          250,
          254,
          253
         ]
        },
        {
         "hovertemplate": "<b>%{text}</b><br>X: %{x:.1f}<br>Y: %{y:.1f}<br>Z: %{z:.1f}<extra></extra>",
         "marker": {
          "color": "#DDD",
          "opacity": 0.9,
          "size": 6,
          "symbol": "circle"
         },
         "mode": "markers+text",
         "name": "Other (3)",
         "text": [
          "Nz",
          "A1",
          "A2"
         ],
         "textfont": {
          "color": "white",
          "size": 10
         },
         "textposition": "top center",
         "type": "scatter3d",
         "x": [
          103,
          25,
          176
         ],
         "y": [
          203,
          98,
          101
         ],
         "z": [
          122,
          112,
          114
         ]
        }
       ],
       "layout": {
        "font": {
         "color": "white"
        },
        "height": 900,
        "legend": {
         "bgcolor": "rgba(0,0,0,0.5)",
         "bordercolor": "white"
        },
        "paper_bgcolor": "rgb(10,10,10)",
        "scene": {
         "bgcolor": "rgb(10,10,10)",
         "camera": {
          "eye": {
           "x": 1.5,
           "y": 1.5,
           "z": 1.5
          }
         },
         "xaxis": {
          "backgroundcolor": "rgb(20,20,20)",
          "gridcolor": "rgb(80,80,80)",
          "showbackground": true,
          "title": {
           "text": "X (mm)"
          }
         },
         "yaxis": {
          "backgroundcolor": "rgb(20,20,20)",
          "gridcolor": "rgb(80,80,80)",
          "showbackground": true,
          "title": {
           "text": "Y (mm)"
          }
         },
         "zaxis": {
          "backgroundcolor": "rgb(20,20,20)",
          "gridcolor": "rgb(80,80,80)",
          "showbackground": true,
          "title": {
           "text": "Z (mm)"
          }
         }
        },
        "template": {
         "data": {
          "bar": [
           {
            "error_x": {
             "color": "#2a3f5f"
            },
            "error_y": {
             "color": "#2a3f5f"
            },
            "marker": {
             "line": {
              "color": "#E5ECF6",
              "width": 0.5
             },
             "pattern": {
              "fillmode": "overlay",
              "size": 10,
              "solidity": 0.2
             }
            },
            "type": "bar"
           }
          ],
          "barpolar": [
           {
            "marker": {
             "line": {
              "color": "#E5ECF6",
              "width": 0.5
             },
             "pattern": {
              "fillmode": "overlay",
              "size": 10,
              "solidity": 0.2
             }
            },
            "type": "barpolar"
           }
          ],
          "carpet": [
           {
            "aaxis": {
             "endlinecolor": "#2a3f5f",
             "gridcolor": "white",
             "linecolor": "white",
             "minorgridcolor": "white",
             "startlinecolor": "#2a3f5f"
            },
            "baxis": {
             "endlinecolor": "#2a3f5f",
             "gridcolor": "white",
             "linecolor": "white",
             "minorgridcolor": "white",
             "startlinecolor": "#2a3f5f"
            },
            "type": "carpet"
           }
          ],
          "choropleth": [
           {
            "colorbar": {
             "outlinewidth": 0,
             "ticks": ""
            },
            "type": "choropleth"
           }
          ],
          "contour": [
           {
            "colorbar": {
             "outlinewidth": 0,
             "ticks": ""
            },
            "colorscale": [
             [
              0,
              "#0d0887"
             ],
             [
              0.1111111111111111,
              "#46039f"
             ],
             [
              0.2222222222222222,
              "#7201a8"
             ],
             [
              0.3333333333333333,
              "#9c179e"
             ],
             [
              0.4444444444444444,
              "#bd3786"
             ],
             [
              0.5555555555555556,
              "#d8576b"
             ],
             [
              0.6666666666666666,
              "#ed7953"
             ],
             [
              0.7777777777777778,
              "#fb9f3a"
             ],
             [
              0.8888888888888888,
              "#fdca26"
             ],
             [
              1,
              "#f0f921"
             ]
            ],
            "type": "contour"
           }
          ],
          "contourcarpet": [
           {
            "colorbar": {
             "outlinewidth": 0,
             "ticks": ""
            },
            "type": "contourcarpet"
           }
          ],
          "heatmap": [
           {
            "colorbar": {
             "outlinewidth": 0,
             "ticks": ""
            },
            "colorscale": [
             [
              0,
              "#0d0887"
             ],
             [
              0.1111111111111111,
              "#46039f"
             ],
             [
              0.2222222222222222,
              "#7201a8"
             ],
             [
              0.3333333333333333,
              "#9c179e"
             ],
             [
              0.4444444444444444,
              "#bd3786"
             ],
             [
              0.5555555555555556,
              "#d8576b"
             ],
             [
              0.6666666666666666,
              "#ed7953"
             ],
             [
              0.7777777777777778,
              "#fb9f3a"
             ],
             [
              0.8888888888888888,
              "#fdca26"
             ],
             [
              1,
              "#f0f921"
             ]
            ],
            "type": "heatmap"
           }
          ],
          "histogram": [
           {
            "marker": {
             "pattern": {
              "fillmode": "overlay",
              "size": 10,
              "solidity": 0.2
             }
            },
            "type": "histogram"
           }
          ],
          "histogram2d": [
           {
            "colorbar": {
             "outlinewidth": 0,
             "ticks": ""
            },
            "colorscale": [
             [
              0,
              "#0d0887"
             ],
             [
              0.1111111111111111,
              "#46039f"
             ],
             [
              0.2222222222222222,
              "#7201a8"
             ],
             [
              0.3333333333333333,
              "#9c179e"
             ],
             [
              0.4444444444444444,
              "#bd3786"
             ],
             [
              0.5555555555555556,
              "#d8576b"
             ],
             [
              0.6666666666666666,
              "#ed7953"
             ],
             [
              0.7777777777777778,
              "#fb9f3a"
             ],
             [
              0.8888888888888888,
              "#fdca26"
             ],
             [
              1,
              "#f0f921"
             ]
            ],
            "type": "histogram2d"
           }
          ],
          "histogram2dcontour": [
           {
            "colorbar": {
             "outlinewidth": 0,
             "ticks": ""
            },
            "colorscale": [
             [
              0,
              "#0d0887"
             ],
             [
              0.1111111111111111,
              "#46039f"
             ],
             [
              0.2222222222222222,
              "#7201a8"
             ],
             [
              0.3333333333333333,
              "#9c179e"
             ],
             [
              0.4444444444444444,
              "#bd3786"
             ],
             [
              0.5555555555555556,
              "#d8576b"
             ],
             [
              0.6666666666666666,
              "#ed7953"
             ],
             [
              0.7777777777777778,
              "#fb9f3a"
             ],
             [
              0.8888888888888888,
              "#fdca26"
             ],
             [
              1,
              "#f0f921"
             ]
            ],
            "type": "histogram2dcontour"
           }
          ],
          "mesh3d": [
           {
            "colorbar": {
             "outlinewidth": 0,
             "ticks": ""
            },
            "type": "mesh3d"
           }
          ],
          "parcoords": [
           {
            "line": {
             "colorbar": {
              "outlinewidth": 0,
              "ticks": ""
             }
            },
            "type": "parcoords"
           }
          ],
          "pie": [
           {
            "automargin": true,
            "type": "pie"
           }
          ],
          "scatter": [
           {
            "fillpattern": {
             "fillmode": "overlay",
             "size": 10,
             "solidity": 0.2
            },
            "type": "scatter"
           }
          ],
          "scatter3d": [
           {
            "line": {
             "colorbar": {
              "outlinewidth": 0,
              "ticks": ""
             }
            },
            "marker": {
             "colorbar": {
              "outlinewidth": 0,
              "ticks": ""
             }
            },
            "type": "scatter3d"
           }
          ],
          "scattercarpet": [
           {
            "marker": {
             "colorbar": {
              "outlinewidth": 0,
              "ticks": ""
             }
            },
            "type": "scattercarpet"
           }
          ],
          "scattergeo": [
           {
            "marker": {
             "colorbar": {
              "outlinewidth": 0,
              "ticks": ""
             }
            },
            "type": "scattergeo"
           }
          ],
          "scattergl": [
           {
            "marker": {
             "colorbar": {
              "outlinewidth": 0,
              "ticks": ""
             }
            },
            "type": "scattergl"
           }
          ],
          "scattermap": [
           {
            "marker": {
             "colorbar": {
              "outlinewidth": 0,
              "ticks": ""
             }
            },
            "type": "scattermap"
           }
          ],
          "scattermapbox": [
           {
            "marker": {
             "colorbar": {
              "outlinewidth": 0,
              "ticks": ""
             }
            },
            "type": "scattermapbox"
           }
          ],
          "scatterpolar": [
           {
            "marker": {
             "colorbar": {
              "outlinewidth": 0,
              "ticks": ""
             }
            },
            "type": "scatterpolar"
           }
          ],
          "scatterpolargl": [
           {
            "marker": {
             "colorbar": {
              "outlinewidth": 0,
              "ticks": ""
             }
            },
            "type": "scatterpolargl"
           }
          ],
          "scatterternary": [
           {
            "marker": {
             "colorbar": {
              "outlinewidth": 0,
              "ticks": ""
             }
            },
            "type": "scatterternary"
           }
          ],
          "surface": [
           {
            "colorbar": {
             "outlinewidth": 0,
             "ticks": ""
            },
            "colorscale": [
             [
              0,
              "#0d0887"
             ],
             [
              0.1111111111111111,
              "#46039f"
             ],
             [
              0.2222222222222222,
              "#7201a8"
             ],
             [
              0.3333333333333333,
              "#9c179e"
             ],
             [
              0.4444444444444444,
              "#bd3786"
             ],
             [
              0.5555555555555556,
              "#d8576b"
             ],
             [
              0.6666666666666666,
              "#ed7953"
             ],
             [
              0.7777777777777778,
              "#fb9f3a"
             ],
             [
              0.8888888888888888,
              "#fdca26"
             ],
             [
              1,
              "#f0f921"
             ]
            ],
            "type": "surface"
           }
          ],
          "table": [
           {
            "cells": {
             "fill": {
              "color": "#EBF0F8"
             },
             "line": {
              "color": "white"
             }
            },
            "header": {
             "fill": {
              "color": "#C8D4E3"
             },
             "line": {
              "color": "white"
             }
            },
            "type": "table"
           }
          ]
         },
         "layout": {
          "annotationdefaults": {
           "arrowcolor": "#2a3f5f",
           "arrowhead": 0,
           "arrowwidth": 1
          },
          "autotypenumbers": "strict",
          "coloraxis": {
           "colorbar": {
            "outlinewidth": 0,
            "ticks": ""
           }
          },
          "colorscale": {
           "diverging": [
            [
             0,
             "#8e0152"
            ],
            [
             0.1,
             "#c51b7d"
            ],
            [
             0.2,
             "#de77ae"
            ],
            [
             0.3,
             "#f1b6da"
            ],
            [
             0.4,
             "#fde0ef"
            ],
            [
             0.5,
             "#f7f7f7"
            ],
            [
             0.6,
             "#e6f5d0"
            ],
            [
             0.7,
             "#b8e186"
            ],
            [
             0.8,
             "#7fbc41"
            ],
            [
             0.9,
             "#4d9221"
            ],
            [
             1,
             "#276419"
            ]
           ],
           "sequential": [
            [
             0,
             "#0d0887"
            ],
            [
             0.1111111111111111,
             "#46039f"
            ],
            [
             0.2222222222222222,
             "#7201a8"
            ],
            [
             0.3333333333333333,
             "#9c179e"
            ],
            [
             0.4444444444444444,
             "#bd3786"
            ],
            [
             0.5555555555555556,
             "#d8576b"
            ],
            [
             0.6666666666666666,
             "#ed7953"
            ],
            [
             0.7777777777777778,
             "#fb9f3a"
            ],
            [
             0.8888888888888888,
             "#fdca26"
            ],
            [
             1,
             "#f0f921"
            ]
           ],
           "sequentialminus": [
            [
             0,
             "#0d0887"
            ],
            [
             0.1111111111111111,
             "#46039f"
            ],
            [
             0.2222222222222222,
             "#7201a8"
            ],
            [
             0.3333333333333333,
             "#9c179e"
            ],
            [
             0.4444444444444444,
             "#bd3786"
            ],
            [
             0.5555555555555556,
             "#d8576b"
            ],
            [
             0.6666666666666666,
             "#ed7953"
            ],
            [
             0.7777777777777778,
             "#fb9f3a"
            ],
            [
             0.8888888888888888,
             "#fdca26"
            ],
            [
             1,
             "#f0f921"
            ]
           ]
          },
          "colorway": [
           "#636efa",
           "#EF553B",
           "#00cc96",
           "#ab63fa",
           "#FFA15A",
           "#19d3f3",
           "#FF6692",
           "#B6E880",
           "#FF97FF",
           "#FECB52"
          ],
          "font": {
           "color": "#2a3f5f"
          },
          "geo": {
           "bgcolor": "white",
           "lakecolor": "white",
           "landcolor": "#E5ECF6",
           "showlakes": true,
           "showland": true,
           "subunitcolor": "white"
          },
          "hoverlabel": {
           "align": "left"
          },
          "hovermode": "closest",
          "mapbox": {
           "style": "light"
          },
          "paper_bgcolor": "white",
          "plot_bgcolor": "#E5ECF6",
          "polar": {
           "angularaxis": {
            "gridcolor": "white",
            "linecolor": "white",
            "ticks": ""
           },
           "bgcolor": "#E5ECF6",
           "radialaxis": {
            "gridcolor": "white",
            "linecolor": "white",
            "ticks": ""
           }
          },
          "scene": {
           "xaxis": {
            "backgroundcolor": "#E5ECF6",
            "gridcolor": "white",
            "gridwidth": 2,
            "linecolor": "white",
            "showbackground": true,
            "ticks": "",
            "zerolinecolor": "white"
           },
           "yaxis": {
            "backgroundcolor": "#E5ECF6",
            "gridcolor": "white",
            "gridwidth": 2,
            "linecolor": "white",
            "showbackground": true,
            "ticks": "",
            "zerolinecolor": "white"
           },
           "zaxis": {
            "backgroundcolor": "#E5ECF6",
            "gridcolor": "white",
            "gridwidth": 2,
            "linecolor": "white",
            "showbackground": true,
            "ticks": "",
            "zerolinecolor": "white"
           }
          },
          "shapedefaults": {
           "line": {
            "color": "#2a3f5f"
           }
          },
          "ternary": {
           "aaxis": {
            "gridcolor": "white",
            "linecolor": "white",
            "ticks": ""
           },
           "baxis": {
            "gridcolor": "white",
            "linecolor": "white",
            "ticks": ""
           },
           "bgcolor": "#E5ECF6",
           "caxis": {
            "gridcolor": "white",
            "linecolor": "white",
            "ticks": ""
           }
          },
          "title": {
           "x": 0.05
          },
          "xaxis": {
           "automargin": true,
           "gridcolor": "white",
           "linecolor": "white",
           "ticks": "",
           "title": {
            "standoff": 15
           },
           "zerolinecolor": "white",
           "zerolinewidth": 2
          },
          "yaxis": {
           "automargin": true,
           "gridcolor": "white",
           "linecolor": "white",
           "ticks": "",
           "title": {
            "standoff": 15
           },
           "zerolinecolor": "white",
           "zerolinewidth": 2
          }
         }
        },
        "title": {
         "text": "GHW280 - EEG Channel Mapping"
        },
        "width": 1200
       }
      }
     },
     "metadata": {},
     "output_type": "display_data"
    },
    {
     "name": "stdout",
     "output_type": "stream",
     "text": [
      "\n",
      "✅ Your custom channels are ready for ICA:\n",
      "blinks = ['274', '41']\n",
      "facial_muscles = ['280', '52']\n"
     ]
    }
   ],
   "source": [
    "# ghw280_analyzer.py\n",
    "# GHW280 EEG Channel Analyzer (Class-Based)\n",
    "# Preserves your original code, aesthetics, and uses your expert electrode mapping\n",
    "\n",
    "import matplotlib.pyplot as plt\n",
    "import plotly.graph_objects as go\n",
    "import numpy as np\n",
    "import os\n",
    "\n",
    "\n",
    "class GHW280Analyzer:\n",
    "    \"\"\"\n",
    "    EEG Channel Analyzer for the 280-channel Geodesic Head Web (GHW280)\n",
    "    - Loads electrode coordinates\n",
    "    - Assigns anatomical regions and functional roles\n",
    "    - Visualizes 3D and top-down layouts\n",
    "    - Uses YOUR electrode definitions for blinks and facial muscles\n",
    "    \"\"\"\n",
    "\n",
    "    def __init__(self, filepath):\n",
    "        self.filepath = filepath\n",
    "        self.channels = None        # List of (name, x, y, z)\n",
    "        self.ch_dict = None         # Dict: name -> np.array([x,y,z])\n",
    "        self.mapping = None         # Dict: original -> renamed (e.g., '274' -> 'hEOG_L')\n",
    "        self.regions = None         # Dict: region -> [channel names]\n",
    "        self.fiducials = {}\n",
    "\n",
    "        # Your expert functional definitions\n",
    "        self.blinks = ['274', '41']           # Left and right blink detectors\n",
    "        self.facial_muscles = ['280', '52']   # Left and right facial EMG\n",
    "        self.ground = '32'                    # Ground and vertical EOG\n",
    "\n",
    "    def parse_gpsc(self):\n",
    "        \"\"\"Parse GHW280 .txt/.gpsc file: Label X Y Z\"\"\"\n",
    "        if not os.path.exists(self.filepath):\n",
    "            raise FileNotFoundError(f\"File not found: {self.filepath}\")\n",
    "\n",
    "        channels = []\n",
    "        with open(self.filepath, 'r') as file:\n",
    "            for line in file:\n",
    "                parts = line.strip().split()\n",
    "                if len(parts) < 4:\n",
    "                    continue\n",
    "                name = parts[0]\n",
    "                try:\n",
    "                    x, y, z = map(float, parts[1:4])\n",
    "                    channels.append((name, x, y, z))\n",
    "                except ValueError:\n",
    "                    print(f\"Warning: Could not parse {name}\")\n",
    "                    continue\n",
    "        print(f\"Parsed {len(channels)} channels from {self.filepath}\")\n",
    "        self.channels = channels\n",
    "        self.ch_dict = {ch[0]: np.array(ch[1:]) for ch in channels}\n",
    "        return self\n",
    "\n",
    "    def assign_regions_and_rename(self):\n",
    "        \"\"\"Assign anatomical regions and rename channels using your expert labels\"\"\"\n",
    "        if self.channels is None:\n",
    "            raise RuntimeError(\"Call parse_gpsc() first.\")\n",
    "\n",
    "        # Extract fiducials\n",
    "        for fid_name in ['FidNz', 'FidT9', 'FidT10', 'Cz']:\n",
    "            if fid_name in self.ch_dict:\n",
    "                self.fiducials[fid_name] = self.ch_dict[fid_name]\n",
    "\n",
    "        if len(self.fiducials) < 3:\n",
    "            print(\"Warning: Not enough fiducials found, using approximate values\")\n",
    "            fnz = np.array([100, 200, 150])\n",
    "            cz = np.array([100, 100, 250])\n",
    "        else:\n",
    "            fnz = self.fiducials.get('FidNz', np.array([100, 200, 150]))\n",
    "            cz = self.fiducials.get('Cz', np.array([100, 100, 250]))\n",
    "\n",
    "        # Compute head center\n",
    "        head_center = np.mean([pos for pos in self.ch_dict.values()], axis=0)\n",
    "\n",
    "        # Initialize\n",
    "        self.regions = {\n",
    "            'Frontal': [], 'Central': [], 'Parietal': [], 'Occipital': [],\n",
    "            'Temporal': [], 'Left': [], 'Right': [], 'Midline': [],\n",
    "            'Mastoid': [], 'Periocular': [], 'Vertex': [], 'Other': []\n",
    "        }\n",
    "        self.mapping = {}\n",
    "\n",
    "        # --- YOUR EXPERT MAPPING ---\n",
    "        blink_left, blink_right = self.blinks\n",
    "        emg_left, emg_right = self.facial_muscles\n",
    "        ground = self.ground\n",
    "\n",
    "        # Assign your custom roles\n",
    "        if blink_left in self.ch_dict:\n",
    "            self.mapping[blink_left] = 'hEOG_L'\n",
    "            self.regions['Periocular'].append(blink_left)\n",
    "        if blink_right in self.ch_dict:\n",
    "            self.mapping[blink_right] = 'hEOG_R'\n",
    "            self.regions['Periocular'].append(blink_right)\n",
    "        if emg_left in self.ch_dict:\n",
    "            self.mapping[emg_left] = 'EMG_L'\n",
    "            self.regions['Periocular'].append(emg_left)\n",
    "        if emg_right in self.ch_dict:\n",
    "            self.mapping[emg_right] = 'EMG_R'\n",
    "            self.regions['Periocular'].append(emg_right)\n",
    "        if ground in self.ch_dict:\n",
    "            self.mapping[ground] = 'VEOG'\n",
    "            self.regions['Periocular'].append(ground)\n",
    "\n",
    "        # --- REST OF AUTOMATIC MAPPING ---\n",
    "        for name, pos in self.ch_dict.items():\n",
    "            if name in self.mapping:\n",
    "                continue\n",
    "\n",
    "            x, y, z = pos\n",
    "            rel_x = x - head_center[0]\n",
    "            is_left = rel_x < -15\n",
    "            is_right = rel_x > 15\n",
    "            is_midline = abs(rel_x) <= 15\n",
    "\n",
    "            rel_y = y - head_center[1]\n",
    "            is_frontal = rel_y > 30\n",
    "            is_central = -30 <= rel_y <= 30\n",
    "            is_parietal = -60 <= rel_y < -30\n",
    "            is_occipital = rel_y < -60\n",
    "\n",
    "            rel_z = z - head_center[2]\n",
    "            is_temporal = rel_z < -20 and abs(rel_x) > 40\n",
    "\n",
    "            # Fiducials\n",
    "            if name.startswith('Fid'):\n",
    "                if 'Nz' in name:\n",
    "                    self.mapping[name] = 'Nz'\n",
    "                elif 'T9' in name:\n",
    "                    self.mapping[name] = 'A1'\n",
    "                elif 'T10' in name:\n",
    "                    self.mapping[name] = 'A2'\n",
    "                self.regions['Other'].append(name)\n",
    "                continue\n",
    "\n",
    "            # Mastoid\n",
    "            if name in ['FidT9', 'FidT10']:\n",
    "                self.regions['Mastoid'].append(name)\n",
    "                continue\n",
    "            if 'FidT9' in self.fiducials and np.linalg.norm(pos - self.fiducials['FidT9']) < 25:\n",
    "                self.regions['Mastoid'].append(name)\n",
    "                self.mapping[name] = 'M1'\n",
    "                continue\n",
    "            elif 'FidT10' in self.fiducials and np.linalg.norm(pos - self.fiducials['FidT10']) < 25:\n",
    "                self.regions['Mastoid'].append(name)\n",
    "                self.mapping[name] = 'M2'\n",
    "                continue\n",
    "\n",
    "            # Vertex\n",
    "            if name == 'Cz' or (is_midline and is_central and rel_z > 20):\n",
    "                self.regions['Vertex'].append(name)\n",
    "                self.mapping[name] = 'Cz'\n",
    "                continue\n",
    "\n",
    "            # Main regions\n",
    "            if is_temporal:\n",
    "                self.regions['Temporal'].append(name)\n",
    "                self.mapping[name] = 'T7' if is_left and 'T7' not in self.mapping.values() else \\\n",
    "                                    'T8' if is_right and 'T8' not in self.mapping.values() else \\\n",
    "                                    'TP7' if is_left else 'TP8'\n",
    "            elif is_frontal:\n",
    "                self.regions['Frontal'].append(name)\n",
    "                if is_midline:\n",
    "                    self.mapping[name] = 'Fz' if 'Fz' not in self.mapping.values() else f'F{name[-1:]}'\n",
    "                elif is_left:\n",
    "                    self.mapping[name] = 'F3' if 'F3' not in self.mapping.values() else f'F{name[-1:]}'\n",
    "                else:\n",
    "                    self.mapping[name] = 'F4' if 'F4' not in self.mapping.values() else f'F{name[-1:]}'\n",
    "            elif is_central:\n",
    "                self.regions['Central'].append(name)\n",
    "                if is_left:\n",
    "                    self.mapping[name] = 'C3' if 'C3' not in self.mapping.values() else f'C{name[-1:]}'\n",
    "                else:\n",
    "                    self.mapping[name] = 'C4' if 'C4' not in self.mapping.values() else f'C{name[-1:]}'\n",
    "            elif is_parietal:\n",
    "                self.regions['Parietal'].append(name)\n",
    "                if is_midline:\n",
    "                    self.mapping[name] = 'Pz' if 'Pz' not in self.mapping.values() else f'P{name[-1:]}'\n",
    "                elif is_left:\n",
    "                    self.mapping[name] = 'P3' if 'P3' not in self.mapping.values() else f'P{name[-1:]}'\n",
    "                else:\n",
    "                    self.mapping[name] = 'P4' if 'P4' not in self.mapping.values() else f'P{name[-1:]}'\n",
    "            elif is_occipital:\n",
    "                self.regions['Occipital'].append(name)\n",
    "                if is_midline:\n",
    "                    self.mapping[name] = 'Oz' if 'Oz' not in self.mapping.values() else f'O{name[-1:]}'\n",
    "                elif is_left:\n",
    "                    self.mapping[name] = 'O1' if 'O1' not in self.mapping.values() else f'O{name[-1:]}'\n",
    "                else:\n",
    "                    self.mapping[name] = 'O2' if 'O2' not in self.mapping.values() else f'O{name[-1:]}'\n",
    "            else:\n",
    "                self.regions['Other'].append(name)\n",
    "                self.mapping[name] = name\n",
    "\n",
    "            # Laterality\n",
    "            if is_left:\n",
    "                self.regions['Left'].append(name)\n",
    "            elif is_right:\n",
    "                self.regions['Right'].append(name)\n",
    "            else:\n",
    "                self.regions['Midline'].append(name)\n",
    "\n",
    "        return self\n",
    "\n",
    "    def plot_3d_enhanced(self):\n",
    "        \"\"\"Plot 3D interactive visualization with modern aesthetics\"\"\"\n",
    "        fig = go.Figure()\n",
    "        colors = {\n",
    "            'Frontal': '#FF6B6B',\n",
    "            'Central': '#4ECDC4',\n",
    "            'Parietal': '#45B7D1',\n",
    "            'Occipital': '#96CEB4',\n",
    "            'Temporal': '#FECA57',\n",
    "            'Mastoid': '#6C5CE7',\n",
    "            'Periocular': '#FD79A8',\n",
    "            'Vertex': '#2D3436',\n",
    "            'Other': '#DDD'\n",
    "        }\n",
    "\n",
    "        for region, color in colors.items():\n",
    "            ch_names = self.regions.get(region, [])\n",
    "            if not ch_names:\n",
    "                continue\n",
    "            data = [ch for ch in self.channels if ch[0] in ch_names]\n",
    "            x = [c[1] for c in data]\n",
    "            y = [c[2] for c in data]\n",
    "            z = [c[3] for c in data]\n",
    "            labels = [self.mapping.get(c[0], c[0]) for c in data]\n",
    "\n",
    "            marker_size = 8 if region in ['Vertex', 'Periocular', 'Mastoid'] else 6\n",
    "            marker_symbol = 'diamond' if region == 'Vertex' else 'circle'\n",
    "\n",
    "            fig.add_trace(go.Scatter3d(\n",
    "                x=x, y=y, z=z,\n",
    "                mode='markers+text',\n",
    "                text=labels,\n",
    "                textposition='top center',\n",
    "                textfont=dict(size=10, color='white'),\n",
    "                marker=dict(size=marker_size, color=color, opacity=0.9, symbol=marker_symbol),\n",
    "                name=f\"{region} ({len(data)})\",\n",
    "                hovertemplate='<b>%{text}</b><br>X: %{x:.1f}<br>Y: %{y:.1f}<br>Z: %{z:.1f}<extra></extra>'\n",
    "            ))\n",
    "\n",
    "        fig.update_layout(\n",
    "            scene=dict(\n",
    "                xaxis=dict(title='X (mm)', backgroundcolor='rgb(20,20,20)', gridcolor='rgb(80,80,80)', showbackground=True),\n",
    "                yaxis=dict(title='Y (mm)', backgroundcolor='rgb(20,20,20)', gridcolor='rgb(80,80,80)', showbackground=True),\n",
    "                zaxis=dict(title='Z (mm)', backgroundcolor='rgb(20,20,20)', gridcolor='rgb(80,80,80)', showbackground=True),\n",
    "                bgcolor='rgb(10,10,10)',\n",
    "                camera=dict(eye=dict(x=1.5, y=1.5, z=1.5))\n",
    "            ),\n",
    "            title=\"GHW280 - EEG Channel Mapping\",\n",
    "            paper_bgcolor='rgb(10,10,10)',\n",
    "            font=dict(color='white'),\n",
    "            width=1200,\n",
    "            height=900,\n",
    "            legend=dict(bgcolor=\"rgba(0,0,0,0.5)\", bordercolor=\"white\")\n",
    "        )\n",
    "        fig.show()\n",
    "        return self\n",
    "\n",
    "    def plot_topdown_enhanced(self):\n",
    "        \"\"\"Plot top-down 2D view\"\"\"\n",
    "        plt.style.use('dark_background')\n",
    "        fig, ax = plt.subplots(figsize=(16, 14))\n",
    "        colors = {\n",
    "            'Frontal': '#FF6B6B',\n",
    "            'Central': '#4ECDC4',\n",
    "            'Parietal': '#45B7D1',\n",
    "            'Occipital': '#96CEB4',\n",
    "            'Temporal': '#FECA57',\n",
    "            'Mastoid': '#6C5CE7',\n",
    "            'Periocular': '#FD79A8',\n",
    "            'Vertex': '#FFFFFF',\n",
    "            'Other': '#CCCCCC'\n",
    "        }\n",
    "\n",
    "        for region, color in colors.items():\n",
    "            ch_names = self.regions.get(region, [])\n",
    "            if not ch_names:\n",
    "                continue\n",
    "            data = [ch for ch in self.channels if ch[0] in ch_names]\n",
    "            x = [c[1] for c in data]\n",
    "            y = [c[2] for c in data]\n",
    "            labels = [self.mapping.get(c[0], c[0]) for c in data]\n",
    "\n",
    "            marker_size = 120 if region in ['Vertex', 'Periocular'] else 80\n",
    "            marker = 's' if region == 'Vertex' else 'o'\n",
    "\n",
    "            ax.scatter(x, y, s=marker_size, c=color, marker=marker, alpha=0.8,\n",
    "                       edgecolors='white', linewidths=1.5, label=f'{region} ({len(data)})')\n",
    "\n",
    "            for xi, yi, lbl in zip(x, y, labels):\n",
    "                ax.text(xi, yi, lbl, fontsize=8, ha='center', va='center', weight='bold', color='black',\n",
    "                        bbox=dict(boxstyle='round,pad=0.2', facecolor='white', alpha=0.8, edgecolor='none'))\n",
    "\n",
    "        ax.set_facecolor('#1a1a1a')\n",
    "        ax.invert_yaxis()\n",
    "        ax.set_aspect('equal')\n",
    "        ax.grid(True, alpha=0.3)\n",
    "        ax.set_title('Top-Down View: Enhanced EEG Channel Layout', fontsize=18, color='white', pad=20)\n",
    "        ax.set_xlabel('Y (mm)', fontsize=14, color='white')\n",
    "        ax.set_ylabel('X (mm)', fontsize=14, color='white')\n",
    "        ax.legend(bbox_to_anchor=(1.05, 1), loc='upper left', frameon=True, fancybox=True, shadow=True)\n",
    "        plt.tight_layout()\n",
    "        plt.show()\n",
    "        return self\n",
    "\n",
    "    def print_stats(self):\n",
    "        \"\"\"Print enhanced statistics\"\"\"\n",
    "        print(f\"\\n📊 TOTAL CHANNELS: {len(self.channels)}\")\n",
    "        print(f\"📍 SUCCESSFULLY MAPPED: {len([m for m in self.mapping.values() if m])}\")\n",
    "\n",
    "        print(\"\\n🎯 ANATOMICAL REGION DISTRIBUTION:\")\n",
    "        print(\"-\" * 50)\n",
    "        for region in ['Frontal', 'Central', 'Parietal', 'Occipital', 'Temporal',\n",
    "                       'Vertex', 'Periocular', 'Mastoid', 'Other']:\n",
    "            chs = self.regions.get(region, [])\n",
    "            if chs:\n",
    "                percentage = (len(chs) / len(self.channels)) * 100\n",
    "                print(f\"{region:15} : {len(chs):3d} channels ({percentage:5.1f}%)\")\n",
    "\n",
    "        print(\"\\n👁️ YOUR CUSTOM CHANNELS:\")\n",
    "        print(\"-\" * 30)\n",
    "        print(f\"  Blinks:      E{self.blinks[0]} (left), E{self.blinks[1]} (right)\")\n",
    "        print(f\"  Facial EMG:  E{self.facial_muscles[0]} (left), E{self.facial_muscles[1]} (right)\")\n",
    "        print(f\"  Ground/VEOG: E{self.ground}\")\n",
    "        return self\n",
    "\n",
    "\n",
    "# -------------------------------\n",
    "# USAGE EXAMPLE\n",
    "# -------------------------------\n",
    "if __name__ == \"__main__\":\n",
    "    # UPDATE THIS PATH TO YOUR FILE\n",
    "    file_path = \"/home/jaizor/jaizor/xtra/data/ghw280_from_egig.gpsc\"\n",
    "\n",
    "    analyzer = GHW280Analyzer(file_path) \\\n",
    "        .parse_gpsc() \\\n",
    "        .assign_regions_and_rename() \\\n",
    "        .print_stats() \\\n",
    "        .plot_3d_enhanced()\n",
    "        # .plot_topdown_enhanced()  # Optional\n",
    "\n",
    "    # Access results\n",
    "    print(\"\\n✅ Your custom channels are ready for ICA:\")\n",
    "    print(f\"blinks = {analyzer.blinks}\")\n",
    "    print(f\"facial_muscles = {analyzer.facial_muscles}\")"
   ]
  }
 ],
 "metadata": {
  "kernelspec": {
   "display_name": "Xtra",
   "language": "python",
   "name": "python3"
  },
  "language_info": {
   "codemirror_mode": {
    "name": "ipython",
    "version": 3
   },
   "file_extension": ".py",
   "mimetype": "text/x-python",
   "name": "python",
   "nbconvert_exporter": "python",
   "pygments_lexer": "ipython3",
   "version": "3.13.5"
  }
 },
 "nbformat": 4,
 "nbformat_minor": 5
}
