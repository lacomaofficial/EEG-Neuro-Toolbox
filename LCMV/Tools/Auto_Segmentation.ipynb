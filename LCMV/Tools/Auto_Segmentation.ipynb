{
 "cells": [
  {
   "cell_type": "code",
   "execution_count": 1,
   "id": "66f28e64",
   "metadata": {},
   "outputs": [
    {
     "name": "stdout",
     "output_type": "stream",
     "text": [
      "✂️ Found 12 subjects: ['sub-01', 'sub-02', 'sub-03', 'sub-05', 'sub-06', 'sub-07', 'sub-08', 'sub-09', 'sub-10', 'sub-11', 'sub-12', 'sub-14']\n",
      "================================================================================\n"
     ]
    },
    {
     "name": "stderr",
     "output_type": "stream",
     "text": [
      "Processing Subjects:   0%|          | 0/12 [00:00<?, ?subject/s]"
     ]
    },
    {
     "name": "stdout",
     "output_type": "stream",
     "text": [
      "Opening raw data file /home/jaizor/jaizor/xtra/derivatives/eeg/sub-01/rest_hand_foot_DBSOFF/sub-01_ses-DBSOFF_task-rest_hand_foot_eeg_ica_cleaned_raw.fif...\n",
      "    Range : 65419 ... 345902 =    130.838 ...   691.804 secs\n",
      "Ready.\n",
      "Reading 0 ... 280483  =      0.000 ...   560.966 secs...\n",
      "Writing /home/jaizor/jaizor/xtra/derivatives/crop/Off/eyes_closed/sub1_eyes_closed_off.fif\n",
      "Closing /home/jaizor/jaizor/xtra/derivatives/crop/Off/eyes_closed/sub1_eyes_closed_off.fif\n",
      "[done]\n"
     ]
    },
    {
     "name": "stderr",
     "output_type": "stream",
     "text": [
      "/tmp/ipykernel_124489/1735541731.py:131: RuntimeWarning: This filename (/home/jaizor/jaizor/xtra/derivatives/crop/Off/eyes_closed/sub1_eyes_closed_off.fif) does not conform to MNE naming conventions. All raw files should end with raw.fif, raw_sss.fif, raw_tsss.fif, _meg.fif, _eeg.fif, _ieeg.fif, raw.fif.gz, raw_sss.fif.gz, raw_tsss.fif.gz, _meg.fif.gz, _eeg.fif.gz or _ieeg.fif.gz\n",
      "  raw_crop.save(output_path, overwrite=True)\n",
      "Processing Subjects:   0%|          | 0/12 [00:00<?, ?subject/s]"
     ]
    },
    {
     "name": "stdout",
     "output_type": "stream",
     "text": [
      "✅ Saved: sub1_eyes_closed_off.fif → /home/jaizor/jaizor/xtra/derivatives/crop/Off/eyes_closed (60.0s) [sub-01/DBSOFF]\n",
      "Writing /home/jaizor/jaizor/xtra/derivatives/crop/Off/eyes_open/sub1_eyes_open_off.fif\n"
     ]
    },
    {
     "name": "stderr",
     "output_type": "stream",
     "text": [
      "/tmp/ipykernel_124489/1735541731.py:131: RuntimeWarning: This filename (/home/jaizor/jaizor/xtra/derivatives/crop/Off/eyes_open/sub1_eyes_open_off.fif) does not conform to MNE naming conventions. All raw files should end with raw.fif, raw_sss.fif, raw_tsss.fif, _meg.fif, _eeg.fif, _ieeg.fif, raw.fif.gz, raw_sss.fif.gz, raw_tsss.fif.gz, _meg.fif.gz, _eeg.fif.gz or _ieeg.fif.gz\n",
      "  raw_crop.save(output_path, overwrite=True)\n"
     ]
    },
    {
     "name": "stdout",
     "output_type": "stream",
     "text": [
      "Closing /home/jaizor/jaizor/xtra/derivatives/crop/Off/eyes_open/sub1_eyes_open_off.fif\n",
      "[done]\n"
     ]
    },
    {
     "name": "stderr",
     "output_type": "stream",
     "text": [
      "Processing Subjects:   0%|          | 0/12 [00:00<?, ?subject/s]"
     ]
    },
    {
     "name": "stdout",
     "output_type": "stream",
     "text": [
      "✅ Saved: sub1_eyes_open_off.fif → /home/jaizor/jaizor/xtra/derivatives/crop/Off/eyes_open (60.0s) [sub-01/DBSOFF]\n",
      "Writing /home/jaizor/jaizor/xtra/derivatives/crop/Off/hands_move/sub1_hands_move_off.fif\n"
     ]
    },
    {
     "name": "stderr",
     "output_type": "stream",
     "text": [
      "/tmp/ipykernel_124489/1735541731.py:131: RuntimeWarning: This filename (/home/jaizor/jaizor/xtra/derivatives/crop/Off/hands_move/sub1_hands_move_off.fif) does not conform to MNE naming conventions. All raw files should end with raw.fif, raw_sss.fif, raw_tsss.fif, _meg.fif, _eeg.fif, _ieeg.fif, raw.fif.gz, raw_sss.fif.gz, raw_tsss.fif.gz, _meg.fif.gz, _eeg.fif.gz or _ieeg.fif.gz\n",
      "  raw_crop.save(output_path, overwrite=True)\n"
     ]
    },
    {
     "name": "stdout",
     "output_type": "stream",
     "text": [
      "Closing /home/jaizor/jaizor/xtra/derivatives/crop/Off/hands_move/sub1_hands_move_off.fif\n",
      "[done]\n"
     ]
    },
    {
     "name": "stderr",
     "output_type": "stream",
     "text": [
      "Processing Subjects:   0%|          | 0/12 [00:01<?, ?subject/s]"
     ]
    },
    {
     "name": "stdout",
     "output_type": "stream",
     "text": [
      "✅ Saved: sub1_hands_move_off.fif → /home/jaizor/jaizor/xtra/derivatives/crop/Off/hands_move (60.0s) [sub-01/DBSOFF]\n",
      "Opening raw data file /home/jaizor/jaizor/xtra/derivatives/eeg/sub-01/rest_hand_foot_DBSON/sub-01_ses-DBSON_task-rest_hand_foot_eeg_ica_cleaned_raw.fif...\n",
      "    Range : 195330 ... 484681 =    390.660 ...   969.362 secs\n",
      "Ready.\n",
      "Reading 0 ... 289351  =      0.000 ...   578.702 secs...\n",
      "Writing /home/jaizor/jaizor/xtra/derivatives/crop/On/eyes_closed/sub1_eyes_closed_on.fif\n",
      "Closing /home/jaizor/jaizor/xtra/derivatives/crop/On/eyes_closed/sub1_eyes_closed_on.fif\n",
      "[done]\n"
     ]
    },
    {
     "name": "stderr",
     "output_type": "stream",
     "text": [
      "/tmp/ipykernel_124489/1735541731.py:131: RuntimeWarning: This filename (/home/jaizor/jaizor/xtra/derivatives/crop/On/eyes_closed/sub1_eyes_closed_on.fif) does not conform to MNE naming conventions. All raw files should end with raw.fif, raw_sss.fif, raw_tsss.fif, _meg.fif, _eeg.fif, _ieeg.fif, raw.fif.gz, raw_sss.fif.gz, raw_tsss.fif.gz, _meg.fif.gz, _eeg.fif.gz or _ieeg.fif.gz\n",
      "  raw_crop.save(output_path, overwrite=True)\n",
      "Processing Subjects:   0%|          | 0/12 [00:01<?, ?subject/s]"
     ]
    },
    {
     "name": "stdout",
     "output_type": "stream",
     "text": [
      "✅ Saved: sub1_eyes_closed_on.fif → /home/jaizor/jaizor/xtra/derivatives/crop/On/eyes_closed (60.0s) [sub-01/DBSON]\n"
     ]
    },
    {
     "name": "stderr",
     "output_type": "stream",
     "text": [
      "/tmp/ipykernel_124489/1735541731.py:131: RuntimeWarning: This filename (/home/jaizor/jaizor/xtra/derivatives/crop/On/eyes_open/sub1_eyes_open_on.fif) does not conform to MNE naming conventions. All raw files should end with raw.fif, raw_sss.fif, raw_tsss.fif, _meg.fif, _eeg.fif, _ieeg.fif, raw.fif.gz, raw_sss.fif.gz, raw_tsss.fif.gz, _meg.fif.gz, _eeg.fif.gz or _ieeg.fif.gz\n",
      "  raw_crop.save(output_path, overwrite=True)\n"
     ]
    },
    {
     "name": "stdout",
     "output_type": "stream",
     "text": [
      "Writing /home/jaizor/jaizor/xtra/derivatives/crop/On/eyes_open/sub1_eyes_open_on.fif\n",
      "Closing /home/jaizor/jaizor/xtra/derivatives/crop/On/eyes_open/sub1_eyes_open_on.fif\n",
      "[done]\n"
     ]
    },
    {
     "name": "stderr",
     "output_type": "stream",
     "text": [
      "Processing Subjects:   0%|          | 0/12 [00:02<?, ?subject/s]"
     ]
    },
    {
     "name": "stdout",
     "output_type": "stream",
     "text": [
      "✅ Saved: sub1_eyes_open_on.fif → /home/jaizor/jaizor/xtra/derivatives/crop/On/eyes_open (60.0s) [sub-01/DBSON]\n"
     ]
    },
    {
     "name": "stderr",
     "output_type": "stream",
     "text": [
      "/tmp/ipykernel_124489/1735541731.py:131: RuntimeWarning: This filename (/home/jaizor/jaizor/xtra/derivatives/crop/On/hands_move/sub1_hands_move_on.fif) does not conform to MNE naming conventions. All raw files should end with raw.fif, raw_sss.fif, raw_tsss.fif, _meg.fif, _eeg.fif, _ieeg.fif, raw.fif.gz, raw_sss.fif.gz, raw_tsss.fif.gz, _meg.fif.gz, _eeg.fif.gz or _ieeg.fif.gz\n",
      "  raw_crop.save(output_path, overwrite=True)\n"
     ]
    },
    {
     "name": "stdout",
     "output_type": "stream",
     "text": [
      "Writing /home/jaizor/jaizor/xtra/derivatives/crop/On/hands_move/sub1_hands_move_on.fif\n",
      "Closing /home/jaizor/jaizor/xtra/derivatives/crop/On/hands_move/sub1_hands_move_on.fif\n",
      "[done]\n"
     ]
    },
    {
     "name": "stderr",
     "output_type": "stream",
     "text": [
      "Processing Subjects:   8%|▊         | 1/12 [00:02<00:26,  2.45s/subject]"
     ]
    },
    {
     "name": "stdout",
     "output_type": "stream",
     "text": [
      "✅ Saved: sub1_hands_move_on.fif → /home/jaizor/jaizor/xtra/derivatives/crop/On/hands_move (60.0s) [sub-01/DBSON]\n",
      "Opening raw data file /home/jaizor/jaizor/xtra/derivatives/eeg/sub-02/rest_hand_foot_DBSOFF/sub-02_ses-DBSOFF_task-rest_hand_foot_eeg_ica_cleaned_raw.fif...\n",
      "    Range : 29536 ... 311300 =     59.072 ...   622.600 secs\n",
      "Ready.\n",
      "Reading 0 ... 281764  =      0.000 ...   563.528 secs...\n",
      "Writing /home/jaizor/jaizor/xtra/derivatives/crop/Off/eyes_closed/sub2_eyes_closed_off.fif\n",
      "Closing /home/jaizor/jaizor/xtra/derivatives/crop/Off/eyes_closed/sub2_eyes_closed_off.fif\n",
      "[done]\n"
     ]
    },
    {
     "name": "stderr",
     "output_type": "stream",
     "text": [
      "/tmp/ipykernel_124489/1735541731.py:131: RuntimeWarning: This filename (/home/jaizor/jaizor/xtra/derivatives/crop/Off/eyes_closed/sub2_eyes_closed_off.fif) does not conform to MNE naming conventions. All raw files should end with raw.fif, raw_sss.fif, raw_tsss.fif, _meg.fif, _eeg.fif, _ieeg.fif, raw.fif.gz, raw_sss.fif.gz, raw_tsss.fif.gz, _meg.fif.gz, _eeg.fif.gz or _ieeg.fif.gz\n",
      "  raw_crop.save(output_path, overwrite=True)\n",
      "Processing Subjects:   8%|▊         | 1/12 [00:03<00:26,  2.45s/subject]"
     ]
    },
    {
     "name": "stdout",
     "output_type": "stream",
     "text": [
      "✅ Saved: sub2_eyes_closed_off.fif → /home/jaizor/jaizor/xtra/derivatives/crop/Off/eyes_closed (60.0s) [sub-02/DBSOFF]\n",
      "Writing /home/jaizor/jaizor/xtra/derivatives/crop/Off/eyes_open/sub2_eyes_open_off.fif\n"
     ]
    },
    {
     "name": "stderr",
     "output_type": "stream",
     "text": [
      "/tmp/ipykernel_124489/1735541731.py:131: RuntimeWarning: This filename (/home/jaizor/jaizor/xtra/derivatives/crop/Off/eyes_open/sub2_eyes_open_off.fif) does not conform to MNE naming conventions. All raw files should end with raw.fif, raw_sss.fif, raw_tsss.fif, _meg.fif, _eeg.fif, _ieeg.fif, raw.fif.gz, raw_sss.fif.gz, raw_tsss.fif.gz, _meg.fif.gz, _eeg.fif.gz or _ieeg.fif.gz\n",
      "  raw_crop.save(output_path, overwrite=True)\n"
     ]
    },
    {
     "name": "stdout",
     "output_type": "stream",
     "text": [
      "Closing /home/jaizor/jaizor/xtra/derivatives/crop/Off/eyes_open/sub2_eyes_open_off.fif\n",
      "[done]\n"
     ]
    },
    {
     "name": "stderr",
     "output_type": "stream",
     "text": [
      "Processing Subjects:   8%|▊         | 1/12 [00:03<00:26,  2.45s/subject]"
     ]
    },
    {
     "name": "stdout",
     "output_type": "stream",
     "text": [
      "✅ Saved: sub2_eyes_open_off.fif → /home/jaizor/jaizor/xtra/derivatives/crop/Off/eyes_open (60.0s) [sub-02/DBSOFF]\n",
      "Writing /home/jaizor/jaizor/xtra/derivatives/crop/Off/hands_move/sub2_hands_move_off.fif\n"
     ]
    },
    {
     "name": "stderr",
     "output_type": "stream",
     "text": [
      "/tmp/ipykernel_124489/1735541731.py:131: RuntimeWarning: This filename (/home/jaizor/jaizor/xtra/derivatives/crop/Off/hands_move/sub2_hands_move_off.fif) does not conform to MNE naming conventions. All raw files should end with raw.fif, raw_sss.fif, raw_tsss.fif, _meg.fif, _eeg.fif, _ieeg.fif, raw.fif.gz, raw_sss.fif.gz, raw_tsss.fif.gz, _meg.fif.gz, _eeg.fif.gz or _ieeg.fif.gz\n",
      "  raw_crop.save(output_path, overwrite=True)\n"
     ]
    },
    {
     "name": "stdout",
     "output_type": "stream",
     "text": [
      "Closing /home/jaizor/jaizor/xtra/derivatives/crop/Off/hands_move/sub2_hands_move_off.fif\n",
      "[done]\n"
     ]
    },
    {
     "name": "stderr",
     "output_type": "stream",
     "text": [
      "Processing Subjects:   8%|▊         | 1/12 [00:03<00:26,  2.45s/subject]"
     ]
    },
    {
     "name": "stdout",
     "output_type": "stream",
     "text": [
      "✅ Saved: sub2_hands_move_off.fif → /home/jaizor/jaizor/xtra/derivatives/crop/Off/hands_move (60.0s) [sub-02/DBSOFF]\n",
      "Opening raw data file /home/jaizor/jaizor/xtra/derivatives/eeg/sub-02/rest_hand_foot_DBSON/sub-02_ses-DBSON_task-rest_hand_foot_eeg_ica_cleaned_raw.fif...\n",
      "    Range : 122980 ... 421371 =    245.960 ...   842.742 secs\n",
      "Ready.\n",
      "Reading 0 ... 298391  =      0.000 ...   596.782 secs...\n",
      "Writing /home/jaizor/jaizor/xtra/derivatives/crop/On/eyes_closed/sub2_eyes_closed_on.fif\n",
      "Closing /home/jaizor/jaizor/xtra/derivatives/crop/On/eyes_closed/sub2_eyes_closed_on.fif\n",
      "[done]\n"
     ]
    },
    {
     "name": "stderr",
     "output_type": "stream",
     "text": [
      "/tmp/ipykernel_124489/1735541731.py:131: RuntimeWarning: This filename (/home/jaizor/jaizor/xtra/derivatives/crop/On/eyes_closed/sub2_eyes_closed_on.fif) does not conform to MNE naming conventions. All raw files should end with raw.fif, raw_sss.fif, raw_tsss.fif, _meg.fif, _eeg.fif, _ieeg.fif, raw.fif.gz, raw_sss.fif.gz, raw_tsss.fif.gz, _meg.fif.gz, _eeg.fif.gz or _ieeg.fif.gz\n",
      "  raw_crop.save(output_path, overwrite=True)\n",
      "Processing Subjects:   8%|▊         | 1/12 [00:04<00:26,  2.45s/subject]"
     ]
    },
    {
     "name": "stdout",
     "output_type": "stream",
     "text": [
      "✅ Saved: sub2_eyes_closed_on.fif → /home/jaizor/jaizor/xtra/derivatives/crop/On/eyes_closed (60.0s) [sub-02/DBSON]\n"
     ]
    },
    {
     "name": "stderr",
     "output_type": "stream",
     "text": [
      "/tmp/ipykernel_124489/1735541731.py:131: RuntimeWarning: This filename (/home/jaizor/jaizor/xtra/derivatives/crop/On/eyes_open/sub2_eyes_open_on.fif) does not conform to MNE naming conventions. All raw files should end with raw.fif, raw_sss.fif, raw_tsss.fif, _meg.fif, _eeg.fif, _ieeg.fif, raw.fif.gz, raw_sss.fif.gz, raw_tsss.fif.gz, _meg.fif.gz, _eeg.fif.gz or _ieeg.fif.gz\n",
      "  raw_crop.save(output_path, overwrite=True)\n"
     ]
    },
    {
     "name": "stdout",
     "output_type": "stream",
     "text": [
      "Writing /home/jaizor/jaizor/xtra/derivatives/crop/On/eyes_open/sub2_eyes_open_on.fif\n",
      "Closing /home/jaizor/jaizor/xtra/derivatives/crop/On/eyes_open/sub2_eyes_open_on.fif\n",
      "[done]\n"
     ]
    },
    {
     "name": "stderr",
     "output_type": "stream",
     "text": [
      "Processing Subjects:   8%|▊         | 1/12 [00:04<00:26,  2.45s/subject]"
     ]
    },
    {
     "name": "stdout",
     "output_type": "stream",
     "text": [
      "✅ Saved: sub2_eyes_open_on.fif → /home/jaizor/jaizor/xtra/derivatives/crop/On/eyes_open (60.0s) [sub-02/DBSON]\n"
     ]
    },
    {
     "name": "stderr",
     "output_type": "stream",
     "text": [
      "/tmp/ipykernel_124489/1735541731.py:131: RuntimeWarning: This filename (/home/jaizor/jaizor/xtra/derivatives/crop/On/hands_move/sub2_hands_move_on.fif) does not conform to MNE naming conventions. All raw files should end with raw.fif, raw_sss.fif, raw_tsss.fif, _meg.fif, _eeg.fif, _ieeg.fif, raw.fif.gz, raw_sss.fif.gz, raw_tsss.fif.gz, _meg.fif.gz, _eeg.fif.gz or _ieeg.fif.gz\n",
      "  raw_crop.save(output_path, overwrite=True)\n"
     ]
    },
    {
     "name": "stdout",
     "output_type": "stream",
     "text": [
      "Writing /home/jaizor/jaizor/xtra/derivatives/crop/On/hands_move/sub2_hands_move_on.fif\n",
      "Closing /home/jaizor/jaizor/xtra/derivatives/crop/On/hands_move/sub2_hands_move_on.fif\n",
      "[done]\n"
     ]
    },
    {
     "name": "stderr",
     "output_type": "stream",
     "text": [
      "Processing Subjects:  17%|█▋        | 2/12 [00:04<00:24,  2.43s/subject]"
     ]
    },
    {
     "name": "stdout",
     "output_type": "stream",
     "text": [
      "✅ Saved: sub2_hands_move_on.fif → /home/jaizor/jaizor/xtra/derivatives/crop/On/hands_move (60.0s) [sub-02/DBSON]\n",
      "Opening raw data file /home/jaizor/jaizor/xtra/derivatives/eeg/sub-03/rest_hand_foot_DBSOFF/sub-03_ses-DBSOFF_task-rest_hand_foot_eeg_ica_cleaned_raw.fif...\n",
      "    Range : 15369 ... 150633 =     61.476 ...   602.532 secs\n",
      "Ready.\n",
      "Reading 0 ... 135264  =      0.000 ...   541.056 secs...\n",
      "Writing /home/jaizor/jaizor/xtra/derivatives/crop/Off/eyes_closed/sub3_eyes_closed_off.fif\n",
      "Closing /home/jaizor/jaizor/xtra/derivatives/crop/Off/eyes_closed/sub3_eyes_closed_off.fif\n",
      "[done]\n"
     ]
    },
    {
     "name": "stderr",
     "output_type": "stream",
     "text": [
      "/tmp/ipykernel_124489/1735541731.py:131: RuntimeWarning: This filename (/home/jaizor/jaizor/xtra/derivatives/crop/Off/eyes_closed/sub3_eyes_closed_off.fif) does not conform to MNE naming conventions. All raw files should end with raw.fif, raw_sss.fif, raw_tsss.fif, _meg.fif, _eeg.fif, _ieeg.fif, raw.fif.gz, raw_sss.fif.gz, raw_tsss.fif.gz, _meg.fif.gz, _eeg.fif.gz or _ieeg.fif.gz\n",
      "  raw_crop.save(output_path, overwrite=True)\n",
      "Processing Subjects:  17%|█▋        | 2/12 [00:05<00:24,  2.43s/subject]"
     ]
    },
    {
     "name": "stdout",
     "output_type": "stream",
     "text": [
      "✅ Saved: sub3_eyes_closed_off.fif → /home/jaizor/jaizor/xtra/derivatives/crop/Off/eyes_closed (60.0s) [sub-03/DBSOFF]\n",
      "Writing /home/jaizor/jaizor/xtra/derivatives/crop/Off/eyes_open/sub3_eyes_open_off.fif\n",
      "Closing /home/jaizor/jaizor/xtra/derivatives/crop/Off/eyes_open/sub3_eyes_open_off.fif\n",
      "[done]\n"
     ]
    },
    {
     "name": "stderr",
     "output_type": "stream",
     "text": [
      "/tmp/ipykernel_124489/1735541731.py:131: RuntimeWarning: This filename (/home/jaizor/jaizor/xtra/derivatives/crop/Off/eyes_open/sub3_eyes_open_off.fif) does not conform to MNE naming conventions. All raw files should end with raw.fif, raw_sss.fif, raw_tsss.fif, _meg.fif, _eeg.fif, _ieeg.fif, raw.fif.gz, raw_sss.fif.gz, raw_tsss.fif.gz, _meg.fif.gz, _eeg.fif.gz or _ieeg.fif.gz\n",
      "  raw_crop.save(output_path, overwrite=True)\n",
      "Processing Subjects:  17%|█▋        | 2/12 [00:05<00:24,  2.43s/subject]"
     ]
    },
    {
     "name": "stdout",
     "output_type": "stream",
     "text": [
      "✅ Saved: sub3_eyes_open_off.fif → /home/jaizor/jaizor/xtra/derivatives/crop/Off/eyes_open (60.0s) [sub-03/DBSOFF]\n",
      "Writing /home/jaizor/jaizor/xtra/derivatives/crop/Off/hands_move/sub3_hands_move_off.fif\n",
      "Closing /home/jaizor/jaizor/xtra/derivatives/crop/Off/hands_move/sub3_hands_move_off.fif\n",
      "[done]\n"
     ]
    },
    {
     "name": "stderr",
     "output_type": "stream",
     "text": [
      "/tmp/ipykernel_124489/1735541731.py:131: RuntimeWarning: This filename (/home/jaizor/jaizor/xtra/derivatives/crop/Off/hands_move/sub3_hands_move_off.fif) does not conform to MNE naming conventions. All raw files should end with raw.fif, raw_sss.fif, raw_tsss.fif, _meg.fif, _eeg.fif, _ieeg.fif, raw.fif.gz, raw_sss.fif.gz, raw_tsss.fif.gz, _meg.fif.gz, _eeg.fif.gz or _ieeg.fif.gz\n",
      "  raw_crop.save(output_path, overwrite=True)\n",
      "Processing Subjects:  17%|█▋        | 2/12 [00:05<00:24,  2.43s/subject]"
     ]
    },
    {
     "name": "stdout",
     "output_type": "stream",
     "text": [
      "✅ Saved: sub3_hands_move_off.fif → /home/jaizor/jaizor/xtra/derivatives/crop/Off/hands_move (60.0s) [sub-03/DBSOFF]\n",
      "Opening raw data file /home/jaizor/jaizor/xtra/derivatives/eeg/sub-03/rest_hand_foot_DBSON/sub-03_ses-DBSON_task-rest_hand_foot_eeg_ica_cleaned_raw.fif...\n",
      "    Range : 21104 ... 142254 =     84.416 ...   569.016 secs\n",
      "Ready.\n",
      "Reading 0 ... 121150  =      0.000 ...   484.600 secs...\n",
      "Writing /home/jaizor/jaizor/xtra/derivatives/crop/On/eyes_closed/sub3_eyes_closed_on.fif\n",
      "Closing /home/jaizor/jaizor/xtra/derivatives/crop/On/eyes_closed/sub3_eyes_closed_on.fif\n",
      "[done]\n"
     ]
    },
    {
     "name": "stderr",
     "output_type": "stream",
     "text": [
      "/tmp/ipykernel_124489/1735541731.py:131: RuntimeWarning: This filename (/home/jaizor/jaizor/xtra/derivatives/crop/On/eyes_closed/sub3_eyes_closed_on.fif) does not conform to MNE naming conventions. All raw files should end with raw.fif, raw_sss.fif, raw_tsss.fif, _meg.fif, _eeg.fif, _ieeg.fif, raw.fif.gz, raw_sss.fif.gz, raw_tsss.fif.gz, _meg.fif.gz, _eeg.fif.gz or _ieeg.fif.gz\n",
      "  raw_crop.save(output_path, overwrite=True)\n",
      "Processing Subjects:  17%|█▋        | 2/12 [00:05<00:24,  2.43s/subject]"
     ]
    },
    {
     "name": "stdout",
     "output_type": "stream",
     "text": [
      "✅ Saved: sub3_eyes_closed_on.fif → /home/jaizor/jaizor/xtra/derivatives/crop/On/eyes_closed (60.0s) [sub-03/DBSON]\n",
      "Writing /home/jaizor/jaizor/xtra/derivatives/crop/On/eyes_open/sub3_eyes_open_on.fif\n"
     ]
    },
    {
     "name": "stderr",
     "output_type": "stream",
     "text": [
      "/tmp/ipykernel_124489/1735541731.py:131: RuntimeWarning: This filename (/home/jaizor/jaizor/xtra/derivatives/crop/On/eyes_open/sub3_eyes_open_on.fif) does not conform to MNE naming conventions. All raw files should end with raw.fif, raw_sss.fif, raw_tsss.fif, _meg.fif, _eeg.fif, _ieeg.fif, raw.fif.gz, raw_sss.fif.gz, raw_tsss.fif.gz, _meg.fif.gz, _eeg.fif.gz or _ieeg.fif.gz\n",
      "  raw_crop.save(output_path, overwrite=True)\n"
     ]
    },
    {
     "name": "stdout",
     "output_type": "stream",
     "text": [
      "Closing /home/jaizor/jaizor/xtra/derivatives/crop/On/eyes_open/sub3_eyes_open_on.fif\n",
      "[done]\n"
     ]
    },
    {
     "name": "stderr",
     "output_type": "stream",
     "text": [
      "Processing Subjects:  17%|█▋        | 2/12 [00:05<00:24,  2.43s/subject]"
     ]
    },
    {
     "name": "stdout",
     "output_type": "stream",
     "text": [
      "✅ Saved: sub3_eyes_open_on.fif → /home/jaizor/jaizor/xtra/derivatives/crop/On/eyes_open (60.0s) [sub-03/DBSON]\n",
      "Writing /home/jaizor/jaizor/xtra/derivatives/crop/On/hands_move/sub3_hands_move_on.fif\n",
      "Closing /home/jaizor/jaizor/xtra/derivatives/crop/On/hands_move/sub3_hands_move_on.fif\n"
     ]
    },
    {
     "name": "stderr",
     "output_type": "stream",
     "text": [
      "/tmp/ipykernel_124489/1735541731.py:131: RuntimeWarning: This filename (/home/jaizor/jaizor/xtra/derivatives/crop/On/hands_move/sub3_hands_move_on.fif) does not conform to MNE naming conventions. All raw files should end with raw.fif, raw_sss.fif, raw_tsss.fif, _meg.fif, _eeg.fif, _ieeg.fif, raw.fif.gz, raw_sss.fif.gz, raw_tsss.fif.gz, _meg.fif.gz, _eeg.fif.gz or _ieeg.fif.gz\n",
      "  raw_crop.save(output_path, overwrite=True)\n"
     ]
    },
    {
     "name": "stdout",
     "output_type": "stream",
     "text": [
      "[done]\n"
     ]
    },
    {
     "name": "stderr",
     "output_type": "stream",
     "text": [
      "Processing Subjects:  25%|██▌       | 3/12 [00:06<00:17,  1.89s/subject]"
     ]
    },
    {
     "name": "stdout",
     "output_type": "stream",
     "text": [
      "✅ Saved: sub3_hands_move_on.fif → /home/jaizor/jaizor/xtra/derivatives/crop/On/hands_move (60.0s) [sub-03/DBSON]\n",
      "Opening raw data file /home/jaizor/jaizor/xtra/derivatives/eeg/sub-05/rest_hand_foot_DBSOFF/sub-05_ses-DBSOFF_task-rest_hand_foot_eeg_ica_cleaned_raw.fif...\n",
      "    Range : 16784 ... 253573 =     33.568 ...   507.146 secs\n",
      "Ready.\n",
      "Reading 0 ... 236789  =      0.000 ...   473.578 secs...\n",
      "Writing /home/jaizor/jaizor/xtra/derivatives/crop/Off/eyes_closed/sub5_eyes_closed_off.fif\n",
      "Closing /home/jaizor/jaizor/xtra/derivatives/crop/Off/eyes_closed/sub5_eyes_closed_off.fif\n",
      "[done]\n"
     ]
    },
    {
     "name": "stderr",
     "output_type": "stream",
     "text": [
      "/tmp/ipykernel_124489/1735541731.py:131: RuntimeWarning: This filename (/home/jaizor/jaizor/xtra/derivatives/crop/Off/eyes_closed/sub5_eyes_closed_off.fif) does not conform to MNE naming conventions. All raw files should end with raw.fif, raw_sss.fif, raw_tsss.fif, _meg.fif, _eeg.fif, _ieeg.fif, raw.fif.gz, raw_sss.fif.gz, raw_tsss.fif.gz, _meg.fif.gz, _eeg.fif.gz or _ieeg.fif.gz\n",
      "  raw_crop.save(output_path, overwrite=True)\n",
      "Processing Subjects:  25%|██▌       | 3/12 [00:06<00:17,  1.89s/subject]"
     ]
    },
    {
     "name": "stdout",
     "output_type": "stream",
     "text": [
      "✅ Saved: sub5_eyes_closed_off.fif → /home/jaizor/jaizor/xtra/derivatives/crop/Off/eyes_closed (60.0s) [sub-05/DBSOFF]\n",
      "Writing /home/jaizor/jaizor/xtra/derivatives/crop/Off/eyes_open/sub5_eyes_open_off.fif\n"
     ]
    },
    {
     "name": "stderr",
     "output_type": "stream",
     "text": [
      "/tmp/ipykernel_124489/1735541731.py:131: RuntimeWarning: This filename (/home/jaizor/jaizor/xtra/derivatives/crop/Off/eyes_open/sub5_eyes_open_off.fif) does not conform to MNE naming conventions. All raw files should end with raw.fif, raw_sss.fif, raw_tsss.fif, _meg.fif, _eeg.fif, _ieeg.fif, raw.fif.gz, raw_sss.fif.gz, raw_tsss.fif.gz, _meg.fif.gz, _eeg.fif.gz or _ieeg.fif.gz\n",
      "  raw_crop.save(output_path, overwrite=True)\n"
     ]
    },
    {
     "name": "stdout",
     "output_type": "stream",
     "text": [
      "Closing /home/jaizor/jaizor/xtra/derivatives/crop/Off/eyes_open/sub5_eyes_open_off.fif\n",
      "[done]\n"
     ]
    },
    {
     "name": "stderr",
     "output_type": "stream",
     "text": [
      "Processing Subjects:  25%|██▌       | 3/12 [00:06<00:17,  1.89s/subject]"
     ]
    },
    {
     "name": "stdout",
     "output_type": "stream",
     "text": [
      "✅ Saved: sub5_eyes_open_off.fif → /home/jaizor/jaizor/xtra/derivatives/crop/Off/eyes_open (60.0s) [sub-05/DBSOFF]\n",
      "Writing /home/jaizor/jaizor/xtra/derivatives/crop/Off/hands_move/sub5_hands_move_off.fif\n"
     ]
    },
    {
     "name": "stderr",
     "output_type": "stream",
     "text": [
      "/tmp/ipykernel_124489/1735541731.py:131: RuntimeWarning: This filename (/home/jaizor/jaizor/xtra/derivatives/crop/Off/hands_move/sub5_hands_move_off.fif) does not conform to MNE naming conventions. All raw files should end with raw.fif, raw_sss.fif, raw_tsss.fif, _meg.fif, _eeg.fif, _ieeg.fif, raw.fif.gz, raw_sss.fif.gz, raw_tsss.fif.gz, _meg.fif.gz, _eeg.fif.gz or _ieeg.fif.gz\n",
      "  raw_crop.save(output_path, overwrite=True)\n"
     ]
    },
    {
     "name": "stdout",
     "output_type": "stream",
     "text": [
      "Closing /home/jaizor/jaizor/xtra/derivatives/crop/Off/hands_move/sub5_hands_move_off.fif\n",
      "[done]\n"
     ]
    },
    {
     "name": "stderr",
     "output_type": "stream",
     "text": [
      "Processing Subjects:  25%|██▌       | 3/12 [00:07<00:17,  1.89s/subject]"
     ]
    },
    {
     "name": "stdout",
     "output_type": "stream",
     "text": [
      "✅ Saved: sub5_hands_move_off.fif → /home/jaizor/jaizor/xtra/derivatives/crop/Off/hands_move (60.0s) [sub-05/DBSOFF]\n",
      "Opening raw data file /home/jaizor/jaizor/xtra/derivatives/eeg/sub-05/rest_hand_foot_DBSON/sub-05_ses-DBSON_task-rest_hand_foot_eeg_ica_cleaned_raw.fif...\n",
      "    Range : 14592 ... 262242 =     29.184 ...   524.484 secs\n",
      "Ready.\n",
      "Reading 0 ... 247650  =      0.000 ...   495.300 secs...\n",
      "Writing /home/jaizor/jaizor/xtra/derivatives/crop/On/eyes_closed/sub5_eyes_closed_on.fif\n",
      "Closing /home/jaizor/jaizor/xtra/derivatives/crop/On/eyes_closed/sub5_eyes_closed_on.fif\n",
      "[done]\n"
     ]
    },
    {
     "name": "stderr",
     "output_type": "stream",
     "text": [
      "/tmp/ipykernel_124489/1735541731.py:131: RuntimeWarning: This filename (/home/jaizor/jaizor/xtra/derivatives/crop/On/eyes_closed/sub5_eyes_closed_on.fif) does not conform to MNE naming conventions. All raw files should end with raw.fif, raw_sss.fif, raw_tsss.fif, _meg.fif, _eeg.fif, _ieeg.fif, raw.fif.gz, raw_sss.fif.gz, raw_tsss.fif.gz, _meg.fif.gz, _eeg.fif.gz or _ieeg.fif.gz\n",
      "  raw_crop.save(output_path, overwrite=True)\n",
      "Processing Subjects:  25%|██▌       | 3/12 [00:07<00:17,  1.89s/subject]"
     ]
    },
    {
     "name": "stdout",
     "output_type": "stream",
     "text": [
      "✅ Saved: sub5_eyes_closed_on.fif → /home/jaizor/jaizor/xtra/derivatives/crop/On/eyes_closed (60.0s) [sub-05/DBSON]\n",
      "Writing /home/jaizor/jaizor/xtra/derivatives/crop/On/eyes_open/sub5_eyes_open_on.fif\n"
     ]
    },
    {
     "name": "stderr",
     "output_type": "stream",
     "text": [
      "/tmp/ipykernel_124489/1735541731.py:131: RuntimeWarning: This filename (/home/jaizor/jaizor/xtra/derivatives/crop/On/eyes_open/sub5_eyes_open_on.fif) does not conform to MNE naming conventions. All raw files should end with raw.fif, raw_sss.fif, raw_tsss.fif, _meg.fif, _eeg.fif, _ieeg.fif, raw.fif.gz, raw_sss.fif.gz, raw_tsss.fif.gz, _meg.fif.gz, _eeg.fif.gz or _ieeg.fif.gz\n",
      "  raw_crop.save(output_path, overwrite=True)\n"
     ]
    },
    {
     "name": "stdout",
     "output_type": "stream",
     "text": [
      "Closing /home/jaizor/jaizor/xtra/derivatives/crop/On/eyes_open/sub5_eyes_open_on.fif\n",
      "[done]\n"
     ]
    },
    {
     "name": "stderr",
     "output_type": "stream",
     "text": [
      "Processing Subjects:  25%|██▌       | 3/12 [00:08<00:17,  1.89s/subject]"
     ]
    },
    {
     "name": "stdout",
     "output_type": "stream",
     "text": [
      "✅ Saved: sub5_eyes_open_on.fif → /home/jaizor/jaizor/xtra/derivatives/crop/On/eyes_open (60.0s) [sub-05/DBSON]\n",
      "Writing /home/jaizor/jaizor/xtra/derivatives/crop/On/hands_move/sub5_hands_move_on.fif\n"
     ]
    },
    {
     "name": "stderr",
     "output_type": "stream",
     "text": [
      "/tmp/ipykernel_124489/1735541731.py:131: RuntimeWarning: This filename (/home/jaizor/jaizor/xtra/derivatives/crop/On/hands_move/sub5_hands_move_on.fif) does not conform to MNE naming conventions. All raw files should end with raw.fif, raw_sss.fif, raw_tsss.fif, _meg.fif, _eeg.fif, _ieeg.fif, raw.fif.gz, raw_sss.fif.gz, raw_tsss.fif.gz, _meg.fif.gz, _eeg.fif.gz or _ieeg.fif.gz\n",
      "  raw_crop.save(output_path, overwrite=True)\n"
     ]
    },
    {
     "name": "stdout",
     "output_type": "stream",
     "text": [
      "Closing /home/jaizor/jaizor/xtra/derivatives/crop/On/hands_move/sub5_hands_move_on.fif\n",
      "[done]\n"
     ]
    },
    {
     "name": "stderr",
     "output_type": "stream",
     "text": [
      "Processing Subjects:  33%|███▎      | 4/12 [00:08<00:15,  2.00s/subject]"
     ]
    },
    {
     "name": "stdout",
     "output_type": "stream",
     "text": [
      "✅ Saved: sub5_hands_move_on.fif → /home/jaizor/jaizor/xtra/derivatives/crop/On/hands_move (60.0s) [sub-05/DBSON]\n",
      "Opening raw data file /home/jaizor/jaizor/xtra/derivatives/eeg/sub-06/rest_hand_foot_DBSOFF/sub-06_ses-DBSOFF_task-rest_hand_foot_eeg_ica_cleaned_raw.fif...\n",
      "    Range : 33060 ... 270466 =     66.120 ...   540.932 secs\n",
      "Ready.\n",
      "Reading 0 ... 237406  =      0.000 ...   474.812 secs...\n",
      "Writing /home/jaizor/jaizor/xtra/derivatives/crop/Off/eyes_closed/sub6_eyes_closed_off.fif\n",
      "Closing /home/jaizor/jaizor/xtra/derivatives/crop/Off/eyes_closed/sub6_eyes_closed_off.fif\n",
      "[done]\n"
     ]
    },
    {
     "name": "stderr",
     "output_type": "stream",
     "text": [
      "/tmp/ipykernel_124489/1735541731.py:131: RuntimeWarning: This filename (/home/jaizor/jaizor/xtra/derivatives/crop/Off/eyes_closed/sub6_eyes_closed_off.fif) does not conform to MNE naming conventions. All raw files should end with raw.fif, raw_sss.fif, raw_tsss.fif, _meg.fif, _eeg.fif, _ieeg.fif, raw.fif.gz, raw_sss.fif.gz, raw_tsss.fif.gz, _meg.fif.gz, _eeg.fif.gz or _ieeg.fif.gz\n",
      "  raw_crop.save(output_path, overwrite=True)\n",
      "Processing Subjects:  33%|███▎      | 4/12 [00:08<00:15,  2.00s/subject]"
     ]
    },
    {
     "name": "stdout",
     "output_type": "stream",
     "text": [
      "✅ Saved: sub6_eyes_closed_off.fif → /home/jaizor/jaizor/xtra/derivatives/crop/Off/eyes_closed (60.0s) [sub-06/DBSOFF]\n",
      "Writing /home/jaizor/jaizor/xtra/derivatives/crop/Off/eyes_open/sub6_eyes_open_off.fif\n"
     ]
    },
    {
     "name": "stderr",
     "output_type": "stream",
     "text": [
      "/tmp/ipykernel_124489/1735541731.py:131: RuntimeWarning: This filename (/home/jaizor/jaizor/xtra/derivatives/crop/Off/eyes_open/sub6_eyes_open_off.fif) does not conform to MNE naming conventions. All raw files should end with raw.fif, raw_sss.fif, raw_tsss.fif, _meg.fif, _eeg.fif, _ieeg.fif, raw.fif.gz, raw_sss.fif.gz, raw_tsss.fif.gz, _meg.fif.gz, _eeg.fif.gz or _ieeg.fif.gz\n",
      "  raw_crop.save(output_path, overwrite=True)\n"
     ]
    },
    {
     "name": "stdout",
     "output_type": "stream",
     "text": [
      "Closing /home/jaizor/jaizor/xtra/derivatives/crop/Off/eyes_open/sub6_eyes_open_off.fif\n",
      "[done]\n"
     ]
    },
    {
     "name": "stderr",
     "output_type": "stream",
     "text": [
      "Processing Subjects:  33%|███▎      | 4/12 [00:09<00:15,  2.00s/subject]"
     ]
    },
    {
     "name": "stdout",
     "output_type": "stream",
     "text": [
      "✅ Saved: sub6_eyes_open_off.fif → /home/jaizor/jaizor/xtra/derivatives/crop/Off/eyes_open (60.0s) [sub-06/DBSOFF]\n",
      "Writing /home/jaizor/jaizor/xtra/derivatives/crop/Off/hands_move/sub6_hands_move_off.fif\n"
     ]
    },
    {
     "name": "stderr",
     "output_type": "stream",
     "text": [
      "/tmp/ipykernel_124489/1735541731.py:131: RuntimeWarning: This filename (/home/jaizor/jaizor/xtra/derivatives/crop/Off/hands_move/sub6_hands_move_off.fif) does not conform to MNE naming conventions. All raw files should end with raw.fif, raw_sss.fif, raw_tsss.fif, _meg.fif, _eeg.fif, _ieeg.fif, raw.fif.gz, raw_sss.fif.gz, raw_tsss.fif.gz, _meg.fif.gz, _eeg.fif.gz or _ieeg.fif.gz\n",
      "  raw_crop.save(output_path, overwrite=True)\n"
     ]
    },
    {
     "name": "stdout",
     "output_type": "stream",
     "text": [
      "Closing /home/jaizor/jaizor/xtra/derivatives/crop/Off/hands_move/sub6_hands_move_off.fif\n",
      "[done]\n"
     ]
    },
    {
     "name": "stderr",
     "output_type": "stream",
     "text": [
      "Processing Subjects:  33%|███▎      | 4/12 [00:09<00:15,  2.00s/subject]"
     ]
    },
    {
     "name": "stdout",
     "output_type": "stream",
     "text": [
      "✅ Saved: sub6_hands_move_off.fif → /home/jaizor/jaizor/xtra/derivatives/crop/Off/hands_move (60.0s) [sub-06/DBSOFF]\n",
      "Opening raw data file /home/jaizor/jaizor/xtra/derivatives/eeg/sub-06/rest_hand_foot_DBSON/sub-06_ses-DBSON_task-rest_hand_foot_eeg_ica_cleaned_raw.fif...\n",
      "    Range : 29266 ... 275763 =     58.532 ...   551.526 secs\n",
      "Ready.\n",
      "Reading 0 ... 246497  =      0.000 ...   492.994 secs...\n",
      "Writing /home/jaizor/jaizor/xtra/derivatives/crop/On/eyes_closed/sub6_eyes_closed_on.fif\n",
      "Closing /home/jaizor/jaizor/xtra/derivatives/crop/On/eyes_closed/sub6_eyes_closed_on.fif\n",
      "[done]\n"
     ]
    },
    {
     "name": "stderr",
     "output_type": "stream",
     "text": [
      "/tmp/ipykernel_124489/1735541731.py:131: RuntimeWarning: This filename (/home/jaizor/jaizor/xtra/derivatives/crop/On/eyes_closed/sub6_eyes_closed_on.fif) does not conform to MNE naming conventions. All raw files should end with raw.fif, raw_sss.fif, raw_tsss.fif, _meg.fif, _eeg.fif, _ieeg.fif, raw.fif.gz, raw_sss.fif.gz, raw_tsss.fif.gz, _meg.fif.gz, _eeg.fif.gz or _ieeg.fif.gz\n",
      "  raw_crop.save(output_path, overwrite=True)\n",
      "Processing Subjects:  33%|███▎      | 4/12 [00:09<00:15,  2.00s/subject]"
     ]
    },
    {
     "name": "stdout",
     "output_type": "stream",
     "text": [
      "✅ Saved: sub6_eyes_closed_on.fif → /home/jaizor/jaizor/xtra/derivatives/crop/On/eyes_closed (60.0s) [sub-06/DBSON]\n",
      "Writing /home/jaizor/jaizor/xtra/derivatives/crop/On/eyes_open/sub6_eyes_open_on.fif\n"
     ]
    },
    {
     "name": "stderr",
     "output_type": "stream",
     "text": [
      "/tmp/ipykernel_124489/1735541731.py:131: RuntimeWarning: This filename (/home/jaizor/jaizor/xtra/derivatives/crop/On/eyes_open/sub6_eyes_open_on.fif) does not conform to MNE naming conventions. All raw files should end with raw.fif, raw_sss.fif, raw_tsss.fif, _meg.fif, _eeg.fif, _ieeg.fif, raw.fif.gz, raw_sss.fif.gz, raw_tsss.fif.gz, _meg.fif.gz, _eeg.fif.gz or _ieeg.fif.gz\n",
      "  raw_crop.save(output_path, overwrite=True)\n"
     ]
    },
    {
     "name": "stdout",
     "output_type": "stream",
     "text": [
      "Closing /home/jaizor/jaizor/xtra/derivatives/crop/On/eyes_open/sub6_eyes_open_on.fif\n",
      "[done]\n"
     ]
    },
    {
     "name": "stderr",
     "output_type": "stream",
     "text": [
      "Processing Subjects:  33%|███▎      | 4/12 [00:10<00:15,  2.00s/subject]"
     ]
    },
    {
     "name": "stdout",
     "output_type": "stream",
     "text": [
      "✅ Saved: sub6_eyes_open_on.fif → /home/jaizor/jaizor/xtra/derivatives/crop/On/eyes_open (60.0s) [sub-06/DBSON]\n",
      "Writing /home/jaizor/jaizor/xtra/derivatives/crop/On/hands_move/sub6_hands_move_on.fif\n"
     ]
    },
    {
     "name": "stderr",
     "output_type": "stream",
     "text": [
      "/tmp/ipykernel_124489/1735541731.py:131: RuntimeWarning: This filename (/home/jaizor/jaizor/xtra/derivatives/crop/On/hands_move/sub6_hands_move_on.fif) does not conform to MNE naming conventions. All raw files should end with raw.fif, raw_sss.fif, raw_tsss.fif, _meg.fif, _eeg.fif, _ieeg.fif, raw.fif.gz, raw_sss.fif.gz, raw_tsss.fif.gz, _meg.fif.gz, _eeg.fif.gz or _ieeg.fif.gz\n",
      "  raw_crop.save(output_path, overwrite=True)\n"
     ]
    },
    {
     "name": "stdout",
     "output_type": "stream",
     "text": [
      "Closing /home/jaizor/jaizor/xtra/derivatives/crop/On/hands_move/sub6_hands_move_on.fif\n",
      "[done]\n"
     ]
    },
    {
     "name": "stderr",
     "output_type": "stream",
     "text": [
      "Processing Subjects:  42%|████▏     | 5/12 [00:10<00:14,  2.07s/subject]"
     ]
    },
    {
     "name": "stdout",
     "output_type": "stream",
     "text": [
      "✅ Saved: sub6_hands_move_on.fif → /home/jaizor/jaizor/xtra/derivatives/crop/On/hands_move (60.0s) [sub-06/DBSON]\n",
      "Opening raw data file /home/jaizor/jaizor/xtra/derivatives/eeg/sub-07/rest_hand_foot_DBSOFF/sub-07_ses-DBSOFF_task-rest_hand_foot_eeg_ica_cleaned_raw.fif...\n",
      "    Range : 14885 ... 250222 =     29.770 ...   500.444 secs\n",
      "Ready.\n",
      "Reading 0 ... 235337  =      0.000 ...   470.674 secs...\n",
      "Writing /home/jaizor/jaizor/xtra/derivatives/crop/Off/eyes_closed/sub7_eyes_closed_off.fif\n",
      "Closing /home/jaizor/jaizor/xtra/derivatives/crop/Off/eyes_closed/sub7_eyes_closed_off.fif\n",
      "[done]\n"
     ]
    },
    {
     "name": "stderr",
     "output_type": "stream",
     "text": [
      "/tmp/ipykernel_124489/1735541731.py:131: RuntimeWarning: This filename (/home/jaizor/jaizor/xtra/derivatives/crop/Off/eyes_closed/sub7_eyes_closed_off.fif) does not conform to MNE naming conventions. All raw files should end with raw.fif, raw_sss.fif, raw_tsss.fif, _meg.fif, _eeg.fif, _ieeg.fif, raw.fif.gz, raw_sss.fif.gz, raw_tsss.fif.gz, _meg.fif.gz, _eeg.fif.gz or _ieeg.fif.gz\n",
      "  raw_crop.save(output_path, overwrite=True)\n",
      "Processing Subjects:  42%|████▏     | 5/12 [00:11<00:14,  2.07s/subject]"
     ]
    },
    {
     "name": "stdout",
     "output_type": "stream",
     "text": [
      "✅ Saved: sub7_eyes_closed_off.fif → /home/jaizor/jaizor/xtra/derivatives/crop/Off/eyes_closed (60.0s) [sub-07/DBSOFF]\n",
      "Writing /home/jaizor/jaizor/xtra/derivatives/crop/Off/eyes_open/sub7_eyes_open_off.fif\n"
     ]
    },
    {
     "name": "stderr",
     "output_type": "stream",
     "text": [
      "/tmp/ipykernel_124489/1735541731.py:131: RuntimeWarning: This filename (/home/jaizor/jaizor/xtra/derivatives/crop/Off/eyes_open/sub7_eyes_open_off.fif) does not conform to MNE naming conventions. All raw files should end with raw.fif, raw_sss.fif, raw_tsss.fif, _meg.fif, _eeg.fif, _ieeg.fif, raw.fif.gz, raw_sss.fif.gz, raw_tsss.fif.gz, _meg.fif.gz, _eeg.fif.gz or _ieeg.fif.gz\n",
      "  raw_crop.save(output_path, overwrite=True)\n"
     ]
    },
    {
     "name": "stdout",
     "output_type": "stream",
     "text": [
      "Closing /home/jaizor/jaizor/xtra/derivatives/crop/Off/eyes_open/sub7_eyes_open_off.fif\n",
      "[done]\n"
     ]
    },
    {
     "name": "stderr",
     "output_type": "stream",
     "text": [
      "Processing Subjects:  42%|████▏     | 5/12 [00:11<00:14,  2.07s/subject]"
     ]
    },
    {
     "name": "stdout",
     "output_type": "stream",
     "text": [
      "✅ Saved: sub7_eyes_open_off.fif → /home/jaizor/jaizor/xtra/derivatives/crop/Off/eyes_open (60.0s) [sub-07/DBSOFF]\n",
      "Writing /home/jaizor/jaizor/xtra/derivatives/crop/Off/hands_move/sub7_hands_move_off.fif\n"
     ]
    },
    {
     "name": "stderr",
     "output_type": "stream",
     "text": [
      "/tmp/ipykernel_124489/1735541731.py:131: RuntimeWarning: This filename (/home/jaizor/jaizor/xtra/derivatives/crop/Off/hands_move/sub7_hands_move_off.fif) does not conform to MNE naming conventions. All raw files should end with raw.fif, raw_sss.fif, raw_tsss.fif, _meg.fif, _eeg.fif, _ieeg.fif, raw.fif.gz, raw_sss.fif.gz, raw_tsss.fif.gz, _meg.fif.gz, _eeg.fif.gz or _ieeg.fif.gz\n",
      "  raw_crop.save(output_path, overwrite=True)\n"
     ]
    },
    {
     "name": "stdout",
     "output_type": "stream",
     "text": [
      "Closing /home/jaizor/jaizor/xtra/derivatives/crop/Off/hands_move/sub7_hands_move_off.fif\n",
      "[done]\n"
     ]
    },
    {
     "name": "stderr",
     "output_type": "stream",
     "text": [
      "Processing Subjects:  42%|████▏     | 5/12 [00:11<00:14,  2.07s/subject]"
     ]
    },
    {
     "name": "stdout",
     "output_type": "stream",
     "text": [
      "✅ Saved: sub7_hands_move_off.fif → /home/jaizor/jaizor/xtra/derivatives/crop/Off/hands_move (60.0s) [sub-07/DBSOFF]\n",
      "Opening raw data file /home/jaizor/jaizor/xtra/derivatives/eeg/sub-07/rest_hand_foot_DBSON/sub-07_ses-DBSON_task-rest_hand_foot_eeg_ica_cleaned_raw.fif...\n",
      "    Range : 10414 ... 141662 =     41.656 ...   566.648 secs\n",
      "Ready.\n",
      "Reading 0 ... 131248  =      0.000 ...   524.992 secs...\n",
      "Writing /home/jaizor/jaizor/xtra/derivatives/crop/On/eyes_closed/sub7_eyes_closed_on.fif\n",
      "Closing /home/jaizor/jaizor/xtra/derivatives/crop/On/eyes_closed/sub7_eyes_closed_on.fif\n",
      "[done]\n"
     ]
    },
    {
     "name": "stderr",
     "output_type": "stream",
     "text": [
      "/tmp/ipykernel_124489/1735541731.py:131: RuntimeWarning: This filename (/home/jaizor/jaizor/xtra/derivatives/crop/On/eyes_closed/sub7_eyes_closed_on.fif) does not conform to MNE naming conventions. All raw files should end with raw.fif, raw_sss.fif, raw_tsss.fif, _meg.fif, _eeg.fif, _ieeg.fif, raw.fif.gz, raw_sss.fif.gz, raw_tsss.fif.gz, _meg.fif.gz, _eeg.fif.gz or _ieeg.fif.gz\n",
      "  raw_crop.save(output_path, overwrite=True)\n",
      "Processing Subjects:  42%|████▏     | 5/12 [00:11<00:14,  2.07s/subject]"
     ]
    },
    {
     "name": "stdout",
     "output_type": "stream",
     "text": [
      "✅ Saved: sub7_eyes_closed_on.fif → /home/jaizor/jaizor/xtra/derivatives/crop/On/eyes_closed (60.0s) [sub-07/DBSON]\n",
      "Writing /home/jaizor/jaizor/xtra/derivatives/crop/On/eyes_open/sub7_eyes_open_on.fif\n",
      "Closing /home/jaizor/jaizor/xtra/derivatives/crop/On/eyes_open/sub7_eyes_open_on.fif\n"
     ]
    },
    {
     "name": "stderr",
     "output_type": "stream",
     "text": [
      "/tmp/ipykernel_124489/1735541731.py:131: RuntimeWarning: This filename (/home/jaizor/jaizor/xtra/derivatives/crop/On/eyes_open/sub7_eyes_open_on.fif) does not conform to MNE naming conventions. All raw files should end with raw.fif, raw_sss.fif, raw_tsss.fif, _meg.fif, _eeg.fif, _ieeg.fif, raw.fif.gz, raw_sss.fif.gz, raw_tsss.fif.gz, _meg.fif.gz, _eeg.fif.gz or _ieeg.fif.gz\n",
      "  raw_crop.save(output_path, overwrite=True)\n"
     ]
    },
    {
     "name": "stdout",
     "output_type": "stream",
     "text": [
      "[done]\n"
     ]
    },
    {
     "name": "stderr",
     "output_type": "stream",
     "text": [
      "Processing Subjects:  42%|████▏     | 5/12 [00:12<00:14,  2.07s/subject]"
     ]
    },
    {
     "name": "stdout",
     "output_type": "stream",
     "text": [
      "✅ Saved: sub7_eyes_open_on.fif → /home/jaizor/jaizor/xtra/derivatives/crop/On/eyes_open (60.0s) [sub-07/DBSON]\n",
      "Writing /home/jaizor/jaizor/xtra/derivatives/crop/On/hands_move/sub7_hands_move_on.fif\n",
      "Closing /home/jaizor/jaizor/xtra/derivatives/crop/On/hands_move/sub7_hands_move_on.fif\n",
      "[done]\n"
     ]
    },
    {
     "name": "stderr",
     "output_type": "stream",
     "text": [
      "/tmp/ipykernel_124489/1735541731.py:131: RuntimeWarning: This filename (/home/jaizor/jaizor/xtra/derivatives/crop/On/hands_move/sub7_hands_move_on.fif) does not conform to MNE naming conventions. All raw files should end with raw.fif, raw_sss.fif, raw_tsss.fif, _meg.fif, _eeg.fif, _ieeg.fif, raw.fif.gz, raw_sss.fif.gz, raw_tsss.fif.gz, _meg.fif.gz, _eeg.fif.gz or _ieeg.fif.gz\n",
      "  raw_crop.save(output_path, overwrite=True)\n",
      "Processing Subjects:  50%|█████     | 6/12 [00:12<00:11,  1.94s/subject]"
     ]
    },
    {
     "name": "stdout",
     "output_type": "stream",
     "text": [
      "✅ Saved: sub7_hands_move_on.fif → /home/jaizor/jaizor/xtra/derivatives/crop/On/hands_move (60.0s) [sub-07/DBSON]\n",
      "Opening raw data file /home/jaizor/jaizor/xtra/derivatives/eeg/sub-08/rest_hand_foot_DBSOFF/sub-08_ses-DBSOFF_task-rest_hand_foot_eeg_ica_cleaned_raw.fif...\n",
      "    Range : 64325 ... 318477 =    128.650 ...   636.954 secs\n",
      "Ready.\n",
      "Reading 0 ... 254152  =      0.000 ...   508.304 secs...\n",
      "Writing /home/jaizor/jaizor/xtra/derivatives/crop/Off/eyes_closed/sub8_eyes_closed_off.fif\n",
      "Closing /home/jaizor/jaizor/xtra/derivatives/crop/Off/eyes_closed/sub8_eyes_closed_off.fif\n",
      "[done]\n"
     ]
    },
    {
     "name": "stderr",
     "output_type": "stream",
     "text": [
      "/tmp/ipykernel_124489/1735541731.py:131: RuntimeWarning: This filename (/home/jaizor/jaizor/xtra/derivatives/crop/Off/eyes_closed/sub8_eyes_closed_off.fif) does not conform to MNE naming conventions. All raw files should end with raw.fif, raw_sss.fif, raw_tsss.fif, _meg.fif, _eeg.fif, _ieeg.fif, raw.fif.gz, raw_sss.fif.gz, raw_tsss.fif.gz, _meg.fif.gz, _eeg.fif.gz or _ieeg.fif.gz\n",
      "  raw_crop.save(output_path, overwrite=True)\n",
      "Processing Subjects:  50%|█████     | 6/12 [00:12<00:11,  1.94s/subject]"
     ]
    },
    {
     "name": "stdout",
     "output_type": "stream",
     "text": [
      "✅ Saved: sub8_eyes_closed_off.fif → /home/jaizor/jaizor/xtra/derivatives/crop/Off/eyes_closed (60.0s) [sub-08/DBSOFF]\n",
      "Writing /home/jaizor/jaizor/xtra/derivatives/crop/Off/eyes_open/sub8_eyes_open_off.fif\n"
     ]
    },
    {
     "name": "stderr",
     "output_type": "stream",
     "text": [
      "/tmp/ipykernel_124489/1735541731.py:131: RuntimeWarning: This filename (/home/jaizor/jaizor/xtra/derivatives/crop/Off/eyes_open/sub8_eyes_open_off.fif) does not conform to MNE naming conventions. All raw files should end with raw.fif, raw_sss.fif, raw_tsss.fif, _meg.fif, _eeg.fif, _ieeg.fif, raw.fif.gz, raw_sss.fif.gz, raw_tsss.fif.gz, _meg.fif.gz, _eeg.fif.gz or _ieeg.fif.gz\n",
      "  raw_crop.save(output_path, overwrite=True)\n"
     ]
    },
    {
     "name": "stdout",
     "output_type": "stream",
     "text": [
      "Closing /home/jaizor/jaizor/xtra/derivatives/crop/Off/eyes_open/sub8_eyes_open_off.fif\n",
      "[done]\n"
     ]
    },
    {
     "name": "stderr",
     "output_type": "stream",
     "text": [
      "Processing Subjects:  50%|█████     | 6/12 [00:13<00:11,  1.94s/subject]"
     ]
    },
    {
     "name": "stdout",
     "output_type": "stream",
     "text": [
      "✅ Saved: sub8_eyes_open_off.fif → /home/jaizor/jaizor/xtra/derivatives/crop/Off/eyes_open (60.0s) [sub-08/DBSOFF]\n",
      "Writing /home/jaizor/jaizor/xtra/derivatives/crop/Off/hands_move/sub8_hands_move_off.fif\n"
     ]
    },
    {
     "name": "stderr",
     "output_type": "stream",
     "text": [
      "/tmp/ipykernel_124489/1735541731.py:131: RuntimeWarning: This filename (/home/jaizor/jaizor/xtra/derivatives/crop/Off/hands_move/sub8_hands_move_off.fif) does not conform to MNE naming conventions. All raw files should end with raw.fif, raw_sss.fif, raw_tsss.fif, _meg.fif, _eeg.fif, _ieeg.fif, raw.fif.gz, raw_sss.fif.gz, raw_tsss.fif.gz, _meg.fif.gz, _eeg.fif.gz or _ieeg.fif.gz\n",
      "  raw_crop.save(output_path, overwrite=True)\n"
     ]
    },
    {
     "name": "stdout",
     "output_type": "stream",
     "text": [
      "Closing /home/jaizor/jaizor/xtra/derivatives/crop/Off/hands_move/sub8_hands_move_off.fif\n",
      "[done]\n"
     ]
    },
    {
     "name": "stderr",
     "output_type": "stream",
     "text": [
      "Processing Subjects:  58%|█████▊    | 7/12 [00:13<00:08,  1.68s/subject]"
     ]
    },
    {
     "name": "stdout",
     "output_type": "stream",
     "text": [
      "✅ Saved: sub8_hands_move_off.fif → /home/jaizor/jaizor/xtra/derivatives/crop/Off/hands_move (60.0s) [sub-08/DBSOFF]\n",
      "⚠️  File not found: sub-08_ses-DBSON_task-rest_hand_foot_eeg_ica_cleaned_raw.fif (sub-08/DBSON)\n",
      "Opening raw data file /home/jaizor/jaizor/xtra/derivatives/eeg/sub-09/rest_hand_foot_DBSOFF/sub-09_ses-DBSOFF_task-rest_hand_foot_eeg_ica_cleaned_raw.fif...\n",
      "    Range : 23343 ... 265035 =     46.686 ...   530.070 secs\n",
      "Ready.\n",
      "Reading 0 ... 241692  =      0.000 ...   483.384 secs...\n",
      "Writing /home/jaizor/jaizor/xtra/derivatives/crop/Off/eyes_closed/sub9_eyes_closed_off.fif\n",
      "Closing /home/jaizor/jaizor/xtra/derivatives/crop/Off/eyes_closed/sub9_eyes_closed_off.fif\n",
      "[done]\n"
     ]
    },
    {
     "name": "stderr",
     "output_type": "stream",
     "text": [
      "/tmp/ipykernel_124489/1735541731.py:131: RuntimeWarning: This filename (/home/jaizor/jaizor/xtra/derivatives/crop/Off/eyes_closed/sub9_eyes_closed_off.fif) does not conform to MNE naming conventions. All raw files should end with raw.fif, raw_sss.fif, raw_tsss.fif, _meg.fif, _eeg.fif, _ieeg.fif, raw.fif.gz, raw_sss.fif.gz, raw_tsss.fif.gz, _meg.fif.gz, _eeg.fif.gz or _ieeg.fif.gz\n",
      "  raw_crop.save(output_path, overwrite=True)\n",
      "Processing Subjects:  58%|█████▊    | 7/12 [00:13<00:08,  1.68s/subject]"
     ]
    },
    {
     "name": "stdout",
     "output_type": "stream",
     "text": [
      "✅ Saved: sub9_eyes_closed_off.fif → /home/jaizor/jaizor/xtra/derivatives/crop/Off/eyes_closed (60.0s) [sub-09/DBSOFF]\n",
      "Writing /home/jaizor/jaizor/xtra/derivatives/crop/Off/eyes_open/sub9_eyes_open_off.fif\n"
     ]
    },
    {
     "name": "stderr",
     "output_type": "stream",
     "text": [
      "/tmp/ipykernel_124489/1735541731.py:131: RuntimeWarning: This filename (/home/jaizor/jaizor/xtra/derivatives/crop/Off/eyes_open/sub9_eyes_open_off.fif) does not conform to MNE naming conventions. All raw files should end with raw.fif, raw_sss.fif, raw_tsss.fif, _meg.fif, _eeg.fif, _ieeg.fif, raw.fif.gz, raw_sss.fif.gz, raw_tsss.fif.gz, _meg.fif.gz, _eeg.fif.gz or _ieeg.fif.gz\n",
      "  raw_crop.save(output_path, overwrite=True)\n"
     ]
    },
    {
     "name": "stdout",
     "output_type": "stream",
     "text": [
      "Closing /home/jaizor/jaizor/xtra/derivatives/crop/Off/eyes_open/sub9_eyes_open_off.fif\n",
      "[done]\n"
     ]
    },
    {
     "name": "stderr",
     "output_type": "stream",
     "text": [
      "Processing Subjects:  58%|█████▊    | 7/12 [00:14<00:08,  1.68s/subject]"
     ]
    },
    {
     "name": "stdout",
     "output_type": "stream",
     "text": [
      "✅ Saved: sub9_eyes_open_off.fif → /home/jaizor/jaizor/xtra/derivatives/crop/Off/eyes_open (60.0s) [sub-09/DBSOFF]\n",
      "Writing /home/jaizor/jaizor/xtra/derivatives/crop/Off/hands_move/sub9_hands_move_off.fif\n"
     ]
    },
    {
     "name": "stderr",
     "output_type": "stream",
     "text": [
      "/tmp/ipykernel_124489/1735541731.py:131: RuntimeWarning: This filename (/home/jaizor/jaizor/xtra/derivatives/crop/Off/hands_move/sub9_hands_move_off.fif) does not conform to MNE naming conventions. All raw files should end with raw.fif, raw_sss.fif, raw_tsss.fif, _meg.fif, _eeg.fif, _ieeg.fif, raw.fif.gz, raw_sss.fif.gz, raw_tsss.fif.gz, _meg.fif.gz, _eeg.fif.gz or _ieeg.fif.gz\n",
      "  raw_crop.save(output_path, overwrite=True)\n"
     ]
    },
    {
     "name": "stdout",
     "output_type": "stream",
     "text": [
      "Closing /home/jaizor/jaizor/xtra/derivatives/crop/Off/hands_move/sub9_hands_move_off.fif\n",
      "[done]\n"
     ]
    },
    {
     "name": "stderr",
     "output_type": "stream",
     "text": [
      "Processing Subjects:  58%|█████▊    | 7/12 [00:14<00:08,  1.68s/subject]"
     ]
    },
    {
     "name": "stdout",
     "output_type": "stream",
     "text": [
      "✅ Saved: sub9_hands_move_off.fif → /home/jaizor/jaizor/xtra/derivatives/crop/Off/hands_move (60.0s) [sub-09/DBSOFF]\n",
      "Opening raw data file /home/jaizor/jaizor/xtra/derivatives/eeg/sub-09/rest_hand_foot_DBSON/sub-09_ses-DBSON_task-rest_hand_foot_eeg_ica_cleaned_raw.fif...\n",
      "    Range : 40483 ... 275006 =     80.966 ...   550.012 secs\n",
      "Ready.\n",
      "Reading 0 ... 234523  =      0.000 ...   469.046 secs...\n",
      "Writing /home/jaizor/jaizor/xtra/derivatives/crop/On/eyes_closed/sub9_eyes_closed_on.fif\n",
      "Closing /home/jaizor/jaizor/xtra/derivatives/crop/On/eyes_closed/sub9_eyes_closed_on.fif\n",
      "[done]\n"
     ]
    },
    {
     "name": "stderr",
     "output_type": "stream",
     "text": [
      "/tmp/ipykernel_124489/1735541731.py:131: RuntimeWarning: This filename (/home/jaizor/jaizor/xtra/derivatives/crop/On/eyes_closed/sub9_eyes_closed_on.fif) does not conform to MNE naming conventions. All raw files should end with raw.fif, raw_sss.fif, raw_tsss.fif, _meg.fif, _eeg.fif, _ieeg.fif, raw.fif.gz, raw_sss.fif.gz, raw_tsss.fif.gz, _meg.fif.gz, _eeg.fif.gz or _ieeg.fif.gz\n",
      "  raw_crop.save(output_path, overwrite=True)\n",
      "Processing Subjects:  58%|█████▊    | 7/12 [00:14<00:08,  1.68s/subject]"
     ]
    },
    {
     "name": "stdout",
     "output_type": "stream",
     "text": [
      "✅ Saved: sub9_eyes_closed_on.fif → /home/jaizor/jaizor/xtra/derivatives/crop/On/eyes_closed (60.0s) [sub-09/DBSON]\n",
      "Writing /home/jaizor/jaizor/xtra/derivatives/crop/On/eyes_open/sub9_eyes_open_on.fif\n"
     ]
    },
    {
     "name": "stderr",
     "output_type": "stream",
     "text": [
      "/tmp/ipykernel_124489/1735541731.py:131: RuntimeWarning: This filename (/home/jaizor/jaizor/xtra/derivatives/crop/On/eyes_open/sub9_eyes_open_on.fif) does not conform to MNE naming conventions. All raw files should end with raw.fif, raw_sss.fif, raw_tsss.fif, _meg.fif, _eeg.fif, _ieeg.fif, raw.fif.gz, raw_sss.fif.gz, raw_tsss.fif.gz, _meg.fif.gz, _eeg.fif.gz or _ieeg.fif.gz\n",
      "  raw_crop.save(output_path, overwrite=True)\n"
     ]
    },
    {
     "name": "stdout",
     "output_type": "stream",
     "text": [
      "Closing /home/jaizor/jaizor/xtra/derivatives/crop/On/eyes_open/sub9_eyes_open_on.fif\n",
      "[done]\n"
     ]
    },
    {
     "name": "stderr",
     "output_type": "stream",
     "text": [
      "Processing Subjects:  58%|█████▊    | 7/12 [00:15<00:08,  1.68s/subject]"
     ]
    },
    {
     "name": "stdout",
     "output_type": "stream",
     "text": [
      "✅ Saved: sub9_eyes_open_on.fif → /home/jaizor/jaizor/xtra/derivatives/crop/On/eyes_open (60.0s) [sub-09/DBSON]\n",
      "Writing /home/jaizor/jaizor/xtra/derivatives/crop/On/hands_move/sub9_hands_move_on.fif\n"
     ]
    },
    {
     "name": "stderr",
     "output_type": "stream",
     "text": [
      "/tmp/ipykernel_124489/1735541731.py:131: RuntimeWarning: This filename (/home/jaizor/jaizor/xtra/derivatives/crop/On/hands_move/sub9_hands_move_on.fif) does not conform to MNE naming conventions. All raw files should end with raw.fif, raw_sss.fif, raw_tsss.fif, _meg.fif, _eeg.fif, _ieeg.fif, raw.fif.gz, raw_sss.fif.gz, raw_tsss.fif.gz, _meg.fif.gz, _eeg.fif.gz or _ieeg.fif.gz\n",
      "  raw_crop.save(output_path, overwrite=True)\n"
     ]
    },
    {
     "name": "stdout",
     "output_type": "stream",
     "text": [
      "Closing /home/jaizor/jaizor/xtra/derivatives/crop/On/hands_move/sub9_hands_move_on.fif\n",
      "[done]\n"
     ]
    },
    {
     "name": "stderr",
     "output_type": "stream",
     "text": [
      "Processing Subjects:  67%|██████▋   | 8/12 [00:15<00:07,  1.81s/subject]"
     ]
    },
    {
     "name": "stdout",
     "output_type": "stream",
     "text": [
      "✅ Saved: sub9_hands_move_on.fif → /home/jaizor/jaizor/xtra/derivatives/crop/On/hands_move (60.0s) [sub-09/DBSON]\n",
      "Opening raw data file /home/jaizor/jaizor/xtra/derivatives/eeg/sub-10/rest_hand_foot_DBSOFF/sub-10_ses-DBSOFF_task-rest_hand_foot_eeg_ica_cleaned_raw.fif...\n",
      "    Range : 13814 ... 254823 =     27.628 ...   509.646 secs\n",
      "Ready.\n",
      "Reading 0 ... 241009  =      0.000 ...   482.018 secs...\n",
      "Writing /home/jaizor/jaizor/xtra/derivatives/crop/Off/eyes_closed/sub10_eyes_closed_off.fif\n",
      "Closing /home/jaizor/jaizor/xtra/derivatives/crop/Off/eyes_closed/sub10_eyes_closed_off.fif\n",
      "[done]\n"
     ]
    },
    {
     "name": "stderr",
     "output_type": "stream",
     "text": [
      "/tmp/ipykernel_124489/1735541731.py:131: RuntimeWarning: This filename (/home/jaizor/jaizor/xtra/derivatives/crop/Off/eyes_closed/sub10_eyes_closed_off.fif) does not conform to MNE naming conventions. All raw files should end with raw.fif, raw_sss.fif, raw_tsss.fif, _meg.fif, _eeg.fif, _ieeg.fif, raw.fif.gz, raw_sss.fif.gz, raw_tsss.fif.gz, _meg.fif.gz, _eeg.fif.gz or _ieeg.fif.gz\n",
      "  raw_crop.save(output_path, overwrite=True)\n",
      "Processing Subjects:  67%|██████▋   | 8/12 [00:15<00:07,  1.81s/subject]"
     ]
    },
    {
     "name": "stdout",
     "output_type": "stream",
     "text": [
      "✅ Saved: sub10_eyes_closed_off.fif → /home/jaizor/jaizor/xtra/derivatives/crop/Off/eyes_closed (60.0s) [sub-10/DBSOFF]\n",
      "Writing /home/jaizor/jaizor/xtra/derivatives/crop/Off/eyes_open/sub10_eyes_open_off.fif\n"
     ]
    },
    {
     "name": "stderr",
     "output_type": "stream",
     "text": [
      "/tmp/ipykernel_124489/1735541731.py:131: RuntimeWarning: This filename (/home/jaizor/jaizor/xtra/derivatives/crop/Off/eyes_open/sub10_eyes_open_off.fif) does not conform to MNE naming conventions. All raw files should end with raw.fif, raw_sss.fif, raw_tsss.fif, _meg.fif, _eeg.fif, _ieeg.fif, raw.fif.gz, raw_sss.fif.gz, raw_tsss.fif.gz, _meg.fif.gz, _eeg.fif.gz or _ieeg.fif.gz\n",
      "  raw_crop.save(output_path, overwrite=True)\n"
     ]
    },
    {
     "name": "stdout",
     "output_type": "stream",
     "text": [
      "Closing /home/jaizor/jaizor/xtra/derivatives/crop/Off/eyes_open/sub10_eyes_open_off.fif\n",
      "[done]\n"
     ]
    },
    {
     "name": "stderr",
     "output_type": "stream",
     "text": [
      "Processing Subjects:  67%|██████▋   | 8/12 [00:16<00:07,  1.81s/subject]"
     ]
    },
    {
     "name": "stdout",
     "output_type": "stream",
     "text": [
      "✅ Saved: sub10_eyes_open_off.fif → /home/jaizor/jaizor/xtra/derivatives/crop/Off/eyes_open (60.0s) [sub-10/DBSOFF]\n",
      "Writing /home/jaizor/jaizor/xtra/derivatives/crop/Off/hands_move/sub10_hands_move_off.fif\n"
     ]
    },
    {
     "name": "stderr",
     "output_type": "stream",
     "text": [
      "/tmp/ipykernel_124489/1735541731.py:131: RuntimeWarning: This filename (/home/jaizor/jaizor/xtra/derivatives/crop/Off/hands_move/sub10_hands_move_off.fif) does not conform to MNE naming conventions. All raw files should end with raw.fif, raw_sss.fif, raw_tsss.fif, _meg.fif, _eeg.fif, _ieeg.fif, raw.fif.gz, raw_sss.fif.gz, raw_tsss.fif.gz, _meg.fif.gz, _eeg.fif.gz or _ieeg.fif.gz\n",
      "  raw_crop.save(output_path, overwrite=True)\n"
     ]
    },
    {
     "name": "stdout",
     "output_type": "stream",
     "text": [
      "Closing /home/jaizor/jaizor/xtra/derivatives/crop/Off/hands_move/sub10_hands_move_off.fif\n",
      "[done]\n"
     ]
    },
    {
     "name": "stderr",
     "output_type": "stream",
     "text": [
      "Processing Subjects:  67%|██████▋   | 8/12 [00:16<00:07,  1.81s/subject]"
     ]
    },
    {
     "name": "stdout",
     "output_type": "stream",
     "text": [
      "✅ Saved: sub10_hands_move_off.fif → /home/jaizor/jaizor/xtra/derivatives/crop/Off/hands_move (60.0s) [sub-10/DBSOFF]\n",
      "Opening raw data file /home/jaizor/jaizor/xtra/derivatives/eeg/sub-10/rest_hand_foot_DBSON/sub-10_ses-DBSON_task-rest_hand_foot_eeg_ica_cleaned_raw.fif...\n",
      "    Range : 20187 ... 284118 =     40.374 ...   568.236 secs\n",
      "Ready.\n",
      "Reading 0 ... 263931  =      0.000 ...   527.862 secs...\n",
      "Writing /home/jaizor/jaizor/xtra/derivatives/crop/On/eyes_closed/sub10_eyes_closed_on.fif\n",
      "Closing /home/jaizor/jaizor/xtra/derivatives/crop/On/eyes_closed/sub10_eyes_closed_on.fif\n",
      "[done]\n"
     ]
    },
    {
     "name": "stderr",
     "output_type": "stream",
     "text": [
      "/tmp/ipykernel_124489/1735541731.py:131: RuntimeWarning: This filename (/home/jaizor/jaizor/xtra/derivatives/crop/On/eyes_closed/sub10_eyes_closed_on.fif) does not conform to MNE naming conventions. All raw files should end with raw.fif, raw_sss.fif, raw_tsss.fif, _meg.fif, _eeg.fif, _ieeg.fif, raw.fif.gz, raw_sss.fif.gz, raw_tsss.fif.gz, _meg.fif.gz, _eeg.fif.gz or _ieeg.fif.gz\n",
      "  raw_crop.save(output_path, overwrite=True)\n",
      "Processing Subjects:  67%|██████▋   | 8/12 [00:17<00:07,  1.81s/subject]"
     ]
    },
    {
     "name": "stdout",
     "output_type": "stream",
     "text": [
      "✅ Saved: sub10_eyes_closed_on.fif → /home/jaizor/jaizor/xtra/derivatives/crop/On/eyes_closed (60.0s) [sub-10/DBSON]\n",
      "Writing /home/jaizor/jaizor/xtra/derivatives/crop/On/eyes_open/sub10_eyes_open_on.fif\n"
     ]
    },
    {
     "name": "stderr",
     "output_type": "stream",
     "text": [
      "/tmp/ipykernel_124489/1735541731.py:131: RuntimeWarning: This filename (/home/jaizor/jaizor/xtra/derivatives/crop/On/eyes_open/sub10_eyes_open_on.fif) does not conform to MNE naming conventions. All raw files should end with raw.fif, raw_sss.fif, raw_tsss.fif, _meg.fif, _eeg.fif, _ieeg.fif, raw.fif.gz, raw_sss.fif.gz, raw_tsss.fif.gz, _meg.fif.gz, _eeg.fif.gz or _ieeg.fif.gz\n",
      "  raw_crop.save(output_path, overwrite=True)\n"
     ]
    },
    {
     "name": "stdout",
     "output_type": "stream",
     "text": [
      "Closing /home/jaizor/jaizor/xtra/derivatives/crop/On/eyes_open/sub10_eyes_open_on.fif\n",
      "[done]\n"
     ]
    },
    {
     "name": "stderr",
     "output_type": "stream",
     "text": [
      "Processing Subjects:  67%|██████▋   | 8/12 [00:17<00:07,  1.81s/subject]"
     ]
    },
    {
     "name": "stdout",
     "output_type": "stream",
     "text": [
      "✅ Saved: sub10_eyes_open_on.fif → /home/jaizor/jaizor/xtra/derivatives/crop/On/eyes_open (60.0s) [sub-10/DBSON]\n",
      "Writing /home/jaizor/jaizor/xtra/derivatives/crop/On/hands_move/sub10_hands_move_on.fif\n"
     ]
    },
    {
     "name": "stderr",
     "output_type": "stream",
     "text": [
      "/tmp/ipykernel_124489/1735541731.py:131: RuntimeWarning: This filename (/home/jaizor/jaizor/xtra/derivatives/crop/On/hands_move/sub10_hands_move_on.fif) does not conform to MNE naming conventions. All raw files should end with raw.fif, raw_sss.fif, raw_tsss.fif, _meg.fif, _eeg.fif, _ieeg.fif, raw.fif.gz, raw_sss.fif.gz, raw_tsss.fif.gz, _meg.fif.gz, _eeg.fif.gz or _ieeg.fif.gz\n",
      "  raw_crop.save(output_path, overwrite=True)\n"
     ]
    },
    {
     "name": "stdout",
     "output_type": "stream",
     "text": [
      "Closing /home/jaizor/jaizor/xtra/derivatives/crop/On/hands_move/sub10_hands_move_on.fif\n",
      "[done]\n"
     ]
    },
    {
     "name": "stderr",
     "output_type": "stream",
     "text": [
      "Processing Subjects:  75%|███████▌  | 9/12 [00:17<00:05,  1.92s/subject]"
     ]
    },
    {
     "name": "stdout",
     "output_type": "stream",
     "text": [
      "✅ Saved: sub10_hands_move_on.fif → /home/jaizor/jaizor/xtra/derivatives/crop/On/hands_move (60.0s) [sub-10/DBSON]\n",
      "Opening raw data file /home/jaizor/jaizor/xtra/derivatives/eeg/sub-11/rest_hand_foot_DBSOFF/sub-11_ses-DBSOFF_task-rest_hand_foot_eeg_ica_cleaned_raw.fif...\n",
      "    Range : 9667 ... 128465 =     38.668 ...   513.860 secs\n",
      "Ready.\n",
      "Reading 0 ... 118798  =      0.000 ...   475.192 secs...\n",
      "Writing /home/jaizor/jaizor/xtra/derivatives/crop/Off/eyes_closed/sub11_eyes_closed_off.fif\n",
      "Closing /home/jaizor/jaizor/xtra/derivatives/crop/Off/eyes_closed/sub11_eyes_closed_off.fif\n",
      "[done]\n"
     ]
    },
    {
     "name": "stderr",
     "output_type": "stream",
     "text": [
      "/tmp/ipykernel_124489/1735541731.py:131: RuntimeWarning: This filename (/home/jaizor/jaizor/xtra/derivatives/crop/Off/eyes_closed/sub11_eyes_closed_off.fif) does not conform to MNE naming conventions. All raw files should end with raw.fif, raw_sss.fif, raw_tsss.fif, _meg.fif, _eeg.fif, _ieeg.fif, raw.fif.gz, raw_sss.fif.gz, raw_tsss.fif.gz, _meg.fif.gz, _eeg.fif.gz or _ieeg.fif.gz\n",
      "  raw_crop.save(output_path, overwrite=True)\n",
      "Processing Subjects:  75%|███████▌  | 9/12 [00:17<00:05,  1.92s/subject]"
     ]
    },
    {
     "name": "stdout",
     "output_type": "stream",
     "text": [
      "✅ Saved: sub11_eyes_closed_off.fif → /home/jaizor/jaizor/xtra/derivatives/crop/Off/eyes_closed (60.0s) [sub-11/DBSOFF]\n",
      "Writing /home/jaizor/jaizor/xtra/derivatives/crop/Off/eyes_open/sub11_eyes_open_off.fif\n",
      "Closing /home/jaizor/jaizor/xtra/derivatives/crop/Off/eyes_open/sub11_eyes_open_off.fif\n",
      "[done]\n"
     ]
    },
    {
     "name": "stderr",
     "output_type": "stream",
     "text": [
      "/tmp/ipykernel_124489/1735541731.py:131: RuntimeWarning: This filename (/home/jaizor/jaizor/xtra/derivatives/crop/Off/eyes_open/sub11_eyes_open_off.fif) does not conform to MNE naming conventions. All raw files should end with raw.fif, raw_sss.fif, raw_tsss.fif, _meg.fif, _eeg.fif, _ieeg.fif, raw.fif.gz, raw_sss.fif.gz, raw_tsss.fif.gz, _meg.fif.gz, _eeg.fif.gz or _ieeg.fif.gz\n",
      "  raw_crop.save(output_path, overwrite=True)\n",
      "Processing Subjects:  75%|███████▌  | 9/12 [00:18<00:05,  1.92s/subject]"
     ]
    },
    {
     "name": "stdout",
     "output_type": "stream",
     "text": [
      "✅ Saved: sub11_eyes_open_off.fif → /home/jaizor/jaizor/xtra/derivatives/crop/Off/eyes_open (60.0s) [sub-11/DBSOFF]\n",
      "Writing /home/jaizor/jaizor/xtra/derivatives/crop/Off/hands_move/sub11_hands_move_off.fif\n",
      "Closing /home/jaizor/jaizor/xtra/derivatives/crop/Off/hands_move/sub11_hands_move_off.fif\n",
      "[done]\n"
     ]
    },
    {
     "name": "stderr",
     "output_type": "stream",
     "text": [
      "/tmp/ipykernel_124489/1735541731.py:131: RuntimeWarning: This filename (/home/jaizor/jaizor/xtra/derivatives/crop/Off/hands_move/sub11_hands_move_off.fif) does not conform to MNE naming conventions. All raw files should end with raw.fif, raw_sss.fif, raw_tsss.fif, _meg.fif, _eeg.fif, _ieeg.fif, raw.fif.gz, raw_sss.fif.gz, raw_tsss.fif.gz, _meg.fif.gz, _eeg.fif.gz or _ieeg.fif.gz\n",
      "  raw_crop.save(output_path, overwrite=True)\n",
      "Processing Subjects:  83%|████████▎ | 10/12 [00:18<00:03,  1.51s/subject]"
     ]
    },
    {
     "name": "stdout",
     "output_type": "stream",
     "text": [
      "✅ Saved: sub11_hands_move_off.fif → /home/jaizor/jaizor/xtra/derivatives/crop/Off/hands_move (60.0s) [sub-11/DBSOFF]\n",
      "⚠️  File not found: sub-11_ses-DBSON_task-rest_hand_foot_eeg_ica_cleaned_raw.fif (sub-11/DBSON)\n",
      "Opening raw data file /home/jaizor/jaizor/xtra/derivatives/eeg/sub-12/rest_hand_foot_DBSOFF/sub-12_ses-DBSOFF_task-rest_hand_foot_eeg_ica_cleaned_raw.fif...\n",
      "    Range : 21364 ... 309179 =     42.728 ...   618.358 secs\n",
      "Ready.\n",
      "Reading 0 ... 287815  =      0.000 ...   575.630 secs...\n",
      "Writing /home/jaizor/jaizor/xtra/derivatives/crop/Off/eyes_closed/sub12_eyes_closed_off.fif\n",
      "Closing /home/jaizor/jaizor/xtra/derivatives/crop/Off/eyes_closed/sub12_eyes_closed_off.fif\n",
      "[done]\n"
     ]
    },
    {
     "name": "stderr",
     "output_type": "stream",
     "text": [
      "/tmp/ipykernel_124489/1735541731.py:131: RuntimeWarning: This filename (/home/jaizor/jaizor/xtra/derivatives/crop/Off/eyes_closed/sub12_eyes_closed_off.fif) does not conform to MNE naming conventions. All raw files should end with raw.fif, raw_sss.fif, raw_tsss.fif, _meg.fif, _eeg.fif, _ieeg.fif, raw.fif.gz, raw_sss.fif.gz, raw_tsss.fif.gz, _meg.fif.gz, _eeg.fif.gz or _ieeg.fif.gz\n",
      "  raw_crop.save(output_path, overwrite=True)\n",
      "Processing Subjects:  83%|████████▎ | 10/12 [00:18<00:03,  1.51s/subject]"
     ]
    },
    {
     "name": "stdout",
     "output_type": "stream",
     "text": [
      "✅ Saved: sub12_eyes_closed_off.fif → /home/jaizor/jaizor/xtra/derivatives/crop/Off/eyes_closed (60.0s) [sub-12/DBSOFF]\n"
     ]
    },
    {
     "name": "stderr",
     "output_type": "stream",
     "text": [
      "/tmp/ipykernel_124489/1735541731.py:131: RuntimeWarning: This filename (/home/jaizor/jaizor/xtra/derivatives/crop/Off/eyes_open/sub12_eyes_open_off.fif) does not conform to MNE naming conventions. All raw files should end with raw.fif, raw_sss.fif, raw_tsss.fif, _meg.fif, _eeg.fif, _ieeg.fif, raw.fif.gz, raw_sss.fif.gz, raw_tsss.fif.gz, _meg.fif.gz, _eeg.fif.gz or _ieeg.fif.gz\n",
      "  raw_crop.save(output_path, overwrite=True)\n"
     ]
    },
    {
     "name": "stdout",
     "output_type": "stream",
     "text": [
      "Writing /home/jaizor/jaizor/xtra/derivatives/crop/Off/eyes_open/sub12_eyes_open_off.fif\n",
      "Closing /home/jaizor/jaizor/xtra/derivatives/crop/Off/eyes_open/sub12_eyes_open_off.fif\n",
      "[done]\n"
     ]
    },
    {
     "name": "stderr",
     "output_type": "stream",
     "text": [
      "Processing Subjects:  83%|████████▎ | 10/12 [00:19<00:03,  1.51s/subject]"
     ]
    },
    {
     "name": "stdout",
     "output_type": "stream",
     "text": [
      "✅ Saved: sub12_eyes_open_off.fif → /home/jaizor/jaizor/xtra/derivatives/crop/Off/eyes_open (60.0s) [sub-12/DBSOFF]\n"
     ]
    },
    {
     "name": "stderr",
     "output_type": "stream",
     "text": [
      "/tmp/ipykernel_124489/1735541731.py:131: RuntimeWarning: This filename (/home/jaizor/jaizor/xtra/derivatives/crop/Off/hands_move/sub12_hands_move_off.fif) does not conform to MNE naming conventions. All raw files should end with raw.fif, raw_sss.fif, raw_tsss.fif, _meg.fif, _eeg.fif, _ieeg.fif, raw.fif.gz, raw_sss.fif.gz, raw_tsss.fif.gz, _meg.fif.gz, _eeg.fif.gz or _ieeg.fif.gz\n",
      "  raw_crop.save(output_path, overwrite=True)\n"
     ]
    },
    {
     "name": "stdout",
     "output_type": "stream",
     "text": [
      "Writing /home/jaizor/jaizor/xtra/derivatives/crop/Off/hands_move/sub12_hands_move_off.fif\n",
      "Closing /home/jaizor/jaizor/xtra/derivatives/crop/Off/hands_move/sub12_hands_move_off.fif\n",
      "[done]\n"
     ]
    },
    {
     "name": "stderr",
     "output_type": "stream",
     "text": [
      "Processing Subjects:  83%|████████▎ | 10/12 [00:19<00:03,  1.51s/subject]"
     ]
    },
    {
     "name": "stdout",
     "output_type": "stream",
     "text": [
      "✅ Saved: sub12_hands_move_off.fif → /home/jaizor/jaizor/xtra/derivatives/crop/Off/hands_move (60.0s) [sub-12/DBSOFF]\n",
      "Opening raw data file /home/jaizor/jaizor/xtra/derivatives/eeg/sub-12/rest_hand_foot_DBSON/sub-12_ses-DBSON_task-rest_hand_foot_eeg_ica_cleaned_raw.fif...\n",
      "    Range : 85254 ... 329808 =    170.508 ...   659.616 secs\n",
      "Ready.\n",
      "Reading 0 ... 244554  =      0.000 ...   489.108 secs...\n",
      "Writing /home/jaizor/jaizor/xtra/derivatives/crop/On/eyes_closed/sub12_eyes_closed_on.fif\n",
      "Closing /home/jaizor/jaizor/xtra/derivatives/crop/On/eyes_closed/sub12_eyes_closed_on.fif\n",
      "[done]\n"
     ]
    },
    {
     "name": "stderr",
     "output_type": "stream",
     "text": [
      "/tmp/ipykernel_124489/1735541731.py:131: RuntimeWarning: This filename (/home/jaizor/jaizor/xtra/derivatives/crop/On/eyes_closed/sub12_eyes_closed_on.fif) does not conform to MNE naming conventions. All raw files should end with raw.fif, raw_sss.fif, raw_tsss.fif, _meg.fif, _eeg.fif, _ieeg.fif, raw.fif.gz, raw_sss.fif.gz, raw_tsss.fif.gz, _meg.fif.gz, _eeg.fif.gz or _ieeg.fif.gz\n",
      "  raw_crop.save(output_path, overwrite=True)\n",
      "Processing Subjects:  83%|████████▎ | 10/12 [00:19<00:03,  1.51s/subject]"
     ]
    },
    {
     "name": "stdout",
     "output_type": "stream",
     "text": [
      "✅ Saved: sub12_eyes_closed_on.fif → /home/jaizor/jaizor/xtra/derivatives/crop/On/eyes_closed (60.0s) [sub-12/DBSON]\n",
      "Writing /home/jaizor/jaizor/xtra/derivatives/crop/On/eyes_open/sub12_eyes_open_on.fif\n"
     ]
    },
    {
     "name": "stderr",
     "output_type": "stream",
     "text": [
      "/tmp/ipykernel_124489/1735541731.py:131: RuntimeWarning: This filename (/home/jaizor/jaizor/xtra/derivatives/crop/On/eyes_open/sub12_eyes_open_on.fif) does not conform to MNE naming conventions. All raw files should end with raw.fif, raw_sss.fif, raw_tsss.fif, _meg.fif, _eeg.fif, _ieeg.fif, raw.fif.gz, raw_sss.fif.gz, raw_tsss.fif.gz, _meg.fif.gz, _eeg.fif.gz or _ieeg.fif.gz\n",
      "  raw_crop.save(output_path, overwrite=True)\n"
     ]
    },
    {
     "name": "stdout",
     "output_type": "stream",
     "text": [
      "Closing /home/jaizor/jaizor/xtra/derivatives/crop/On/eyes_open/sub12_eyes_open_on.fif\n",
      "[done]\n"
     ]
    },
    {
     "name": "stderr",
     "output_type": "stream",
     "text": [
      "Processing Subjects:  83%|████████▎ | 10/12 [00:20<00:03,  1.51s/subject]"
     ]
    },
    {
     "name": "stdout",
     "output_type": "stream",
     "text": [
      "✅ Saved: sub12_eyes_open_on.fif → /home/jaizor/jaizor/xtra/derivatives/crop/On/eyes_open (60.0s) [sub-12/DBSON]\n",
      "Writing /home/jaizor/jaizor/xtra/derivatives/crop/On/hands_move/sub12_hands_move_on.fif\n"
     ]
    },
    {
     "name": "stderr",
     "output_type": "stream",
     "text": [
      "/tmp/ipykernel_124489/1735541731.py:131: RuntimeWarning: This filename (/home/jaizor/jaizor/xtra/derivatives/crop/On/hands_move/sub12_hands_move_on.fif) does not conform to MNE naming conventions. All raw files should end with raw.fif, raw_sss.fif, raw_tsss.fif, _meg.fif, _eeg.fif, _ieeg.fif, raw.fif.gz, raw_sss.fif.gz, raw_tsss.fif.gz, _meg.fif.gz, _eeg.fif.gz or _ieeg.fif.gz\n",
      "  raw_crop.save(output_path, overwrite=True)\n"
     ]
    },
    {
     "name": "stdout",
     "output_type": "stream",
     "text": [
      "Closing /home/jaizor/jaizor/xtra/derivatives/crop/On/hands_move/sub12_hands_move_on.fif\n",
      "[done]\n"
     ]
    },
    {
     "name": "stderr",
     "output_type": "stream",
     "text": [
      "Processing Subjects:  92%|█████████▏| 11/12 [00:20<00:01,  1.76s/subject]"
     ]
    },
    {
     "name": "stdout",
     "output_type": "stream",
     "text": [
      "✅ Saved: sub12_hands_move_on.fif → /home/jaizor/jaizor/xtra/derivatives/crop/On/hands_move (60.0s) [sub-12/DBSON]\n",
      "Opening raw data file /home/jaizor/jaizor/xtra/derivatives/eeg/sub-14/rest_hand_foot_DBSOFF/sub-14_ses-DBSOFF_task-rest_hand_foot_eeg_ica_cleaned_raw.fif...\n",
      "    Range : 58347 ... 323660 =    116.694 ...   647.320 secs\n",
      "Ready.\n",
      "Reading 0 ... 265313  =      0.000 ...   530.626 secs...\n",
      "Writing /home/jaizor/jaizor/xtra/derivatives/crop/Off/eyes_closed/sub14_eyes_closed_off.fif\n",
      "Closing /home/jaizor/jaizor/xtra/derivatives/crop/Off/eyes_closed/sub14_eyes_closed_off.fif\n",
      "[done]\n"
     ]
    },
    {
     "name": "stderr",
     "output_type": "stream",
     "text": [
      "/tmp/ipykernel_124489/1735541731.py:131: RuntimeWarning: This filename (/home/jaizor/jaizor/xtra/derivatives/crop/Off/eyes_closed/sub14_eyes_closed_off.fif) does not conform to MNE naming conventions. All raw files should end with raw.fif, raw_sss.fif, raw_tsss.fif, _meg.fif, _eeg.fif, _ieeg.fif, raw.fif.gz, raw_sss.fif.gz, raw_tsss.fif.gz, _meg.fif.gz, _eeg.fif.gz or _ieeg.fif.gz\n",
      "  raw_crop.save(output_path, overwrite=True)\n",
      "Processing Subjects:  92%|█████████▏| 11/12 [00:21<00:01,  1.76s/subject]"
     ]
    },
    {
     "name": "stdout",
     "output_type": "stream",
     "text": [
      "✅ Saved: sub14_eyes_closed_off.fif → /home/jaizor/jaizor/xtra/derivatives/crop/Off/eyes_closed (60.0s) [sub-14/DBSOFF]\n",
      "Writing /home/jaizor/jaizor/xtra/derivatives/crop/Off/eyes_open/sub14_eyes_open_off.fif\n"
     ]
    },
    {
     "name": "stderr",
     "output_type": "stream",
     "text": [
      "/tmp/ipykernel_124489/1735541731.py:131: RuntimeWarning: This filename (/home/jaizor/jaizor/xtra/derivatives/crop/Off/eyes_open/sub14_eyes_open_off.fif) does not conform to MNE naming conventions. All raw files should end with raw.fif, raw_sss.fif, raw_tsss.fif, _meg.fif, _eeg.fif, _ieeg.fif, raw.fif.gz, raw_sss.fif.gz, raw_tsss.fif.gz, _meg.fif.gz, _eeg.fif.gz or _ieeg.fif.gz\n",
      "  raw_crop.save(output_path, overwrite=True)\n"
     ]
    },
    {
     "name": "stdout",
     "output_type": "stream",
     "text": [
      "Closing /home/jaizor/jaizor/xtra/derivatives/crop/Off/eyes_open/sub14_eyes_open_off.fif\n",
      "[done]\n"
     ]
    },
    {
     "name": "stderr",
     "output_type": "stream",
     "text": [
      "Processing Subjects:  92%|█████████▏| 11/12 [00:21<00:01,  1.76s/subject]"
     ]
    },
    {
     "name": "stdout",
     "output_type": "stream",
     "text": [
      "✅ Saved: sub14_eyes_open_off.fif → /home/jaizor/jaizor/xtra/derivatives/crop/Off/eyes_open (60.0s) [sub-14/DBSOFF]\n",
      "Writing /home/jaizor/jaizor/xtra/derivatives/crop/Off/hands_move/sub14_hands_move_off.fif\n"
     ]
    },
    {
     "name": "stderr",
     "output_type": "stream",
     "text": [
      "/tmp/ipykernel_124489/1735541731.py:131: RuntimeWarning: This filename (/home/jaizor/jaizor/xtra/derivatives/crop/Off/hands_move/sub14_hands_move_off.fif) does not conform to MNE naming conventions. All raw files should end with raw.fif, raw_sss.fif, raw_tsss.fif, _meg.fif, _eeg.fif, _ieeg.fif, raw.fif.gz, raw_sss.fif.gz, raw_tsss.fif.gz, _meg.fif.gz, _eeg.fif.gz or _ieeg.fif.gz\n",
      "  raw_crop.save(output_path, overwrite=True)\n"
     ]
    },
    {
     "name": "stdout",
     "output_type": "stream",
     "text": [
      "Closing /home/jaizor/jaizor/xtra/derivatives/crop/Off/hands_move/sub14_hands_move_off.fif\n",
      "[done]\n"
     ]
    },
    {
     "name": "stderr",
     "output_type": "stream",
     "text": [
      "Processing Subjects: 100%|██████████| 12/12 [00:21<00:00,  1.80s/subject]"
     ]
    },
    {
     "name": "stdout",
     "output_type": "stream",
     "text": [
      "✅ Saved: sub14_hands_move_off.fif → /home/jaizor/jaizor/xtra/derivatives/crop/Off/hands_move (60.0s) [sub-14/DBSOFF]\n",
      "⚠️  File not found: sub-14_ses-DBSON_task-rest_hand_foot_eeg_ica_cleaned_raw.fif (sub-14/DBSON)\n",
      "\n",
      "================================================================================\n",
      "🎉 SEGMENTATION COMPLETE\n",
      "================================================================================\n",
      "   Successfully saved segments: 63\n",
      "   Failed or skipped:           0\n",
      "   Output structure: /home/jaizor/jaizor/xtra/derivatives/crop/<On|Off>/<task_name>/\n"
     ]
    },
    {
     "name": "stderr",
     "output_type": "stream",
     "text": [
      "\n"
     ]
    }
   ],
   "source": [
    "# ✂️ AUTOMATED SEGMENTATION → Start at Trigger Onset\n",
    "# Output: derivatives/crop/On/<task>/ and crop/Off/<task>/\n",
    "# Filename: sub6_eyes_closed_on.fif\n",
    "\n",
    "# %%\n",
    "import os\n",
    "import mne\n",
    "import numpy as np\n",
    "from tqdm import tqdm\n",
    "\n",
    "# --- CONFIGURATION ---\n",
    "BASE_DERIVATIVES_DIR = \"/home/jaizor/jaizor/xtra/derivatives/eeg\"\n",
    "OUTPUT_BASE_DIR = \"/home/jaizor/jaizor/xtra/derivatives/crop\"  # ← Now 'crop' instead of 'source_ready'\n",
    "\n",
    "TASK = \"rest_hand_foot\"\n",
    "SESSIONS = [\"DBSOFF\", \"DBSON\"]\n",
    "TRIGGERS = ['c', 'o', '1a']\n",
    "TASK_NAMES = ['eyes_closed', 'eyes_open', 'hands_move']  # lowercase\n",
    "DURATION = 60.0     # 60 seconds\n",
    "OUTPUT_SUFFIX = \".fif\"\n",
    "\n",
    "# Map session to folder and filename suffix\n",
    "SESSION_CONFIG = {\n",
    "    \"DBSOFF\": {\"folder\": \"Off\", \"suffix\": \"_off\"},\n",
    "    \"DBSON\":  {\"folder\": \"On\",  \"suffix\": \"_on\"}\n",
    "}\n",
    "\n",
    "# --- GET ALL SUBJECTS ---\n",
    "def get_all_subjects(base_dir: str) -> list:\n",
    "    subjects = []\n",
    "    for item in os.listdir(base_dir):\n",
    "        if item.startswith('sub-'):\n",
    "            subjects.append(item)\n",
    "    return sorted(subjects, key=lambda x: int(x.split('-')[1]))\n",
    "\n",
    "subjects = get_all_subjects(BASE_DERIVATIVES_DIR)\n",
    "print(f\"✂️ Found {len(subjects)} subjects: {subjects}\")\n",
    "print(\"=\"*80)\n",
    "\n",
    "# --- DETECT FIRST TRIGGER ONSET ---\n",
    "def detect_first_trigger_onsets(raw: mne.io.Raw, triggers: list) -> dict:\n",
    "    onsets = {}\n",
    "    sfreq = raw.info['sfreq']\n",
    "\n",
    "    for trig in triggers:\n",
    "        if trig not in raw.ch_names:\n",
    "            print(f\"    ❌ Trigger '{trig}' not found in channels!\")\n",
    "            onsets[trig] = None\n",
    "            continue\n",
    "\n",
    "        data = raw.get_data(picks=[trig])[0]\n",
    "        diff = np.diff((data > 0.5).astype(int))  # Rising edge detection\n",
    "        onset_indices = np.where(diff == 1)[0] + 1\n",
    "        onset_times = onset_indices / sfreq\n",
    "\n",
    "        if len(onset_times) == 0:\n",
    "            print(f\"    ⚠️  No rising edges for '{trig}'!\")\n",
    "            onsets[trig] = None\n",
    "        else:\n",
    "            onsets[trig] = onset_times[0]\n",
    "\n",
    "    return onsets\n",
    "\n",
    "# --- MAIN PROCESSING LOOP ---\n",
    "success_count = 0\n",
    "failure_count = 0\n",
    "\n",
    "for subject in tqdm(subjects, desc=\"Processing Subjects\", unit=\"subject\"):\n",
    "    for session in SESSIONS:\n",
    "        # Build input file path\n",
    "        task_session_dir = os.path.join(BASE_DERIVATIVES_DIR, subject, f\"{TASK}_{session}\")\n",
    "        filename = f\"{subject}_ses-{session}_task-{TASK}_eeg_ica_cleaned_raw.fif\"\n",
    "        filepath = os.path.join(task_session_dir, filename)\n",
    "\n",
    "        if not os.path.exists(filepath):\n",
    "            tqdm.write(f\"⚠️  File not found: {filename} ({subject}/{session})\")\n",
    "            continue\n",
    "\n",
    "        try:\n",
    "            # Load data\n",
    "            raw = mne.io.read_raw_fif(filepath, preload=True)\n",
    "            total_duration = raw.times[-1]\n",
    "\n",
    "            # Detect trigger onsets\n",
    "            onsets = detect_first_trigger_onsets(raw, TRIGGERS)\n",
    "\n",
    "            # Process each trigger/task\n",
    "            for trig, task_name in zip(TRIGGERS, TASK_NAMES):\n",
    "                onset = onsets.get(trig)\n",
    "                if onset is None:\n",
    "                    tqdm.write(f\"❌ Skipping {task_name} for {subject}/{session}: trigger '{trig}' not found or no onset\")\n",
    "                    continue\n",
    "\n",
    "                tmin = onset\n",
    "                tmax = tmin + DURATION\n",
    "\n",
    "                # Validate time bounds\n",
    "                if tmin >= total_duration:\n",
    "                    tqdm.write(f\"❌ {task_name} for {subject}/{session}: start {tmin:.3f}s > duration {total_duration:.3f}s\")\n",
    "                    continue\n",
    "                if tmin < 0:\n",
    "                    tqdm.write(f\"❌ {task_name} for {subject}/{session}: invalid start {tmin:.3f}s\")\n",
    "                    continue\n",
    "                if tmax > total_duration:\n",
    "                    tqdm.write(f\"⚠️  {task_name} for {subject}/{session}: truncating to {total_duration:.3f}s\")\n",
    "                    tmax = total_duration\n",
    "                if tmax <= tmin:\n",
    "                    tqdm.write(f\"❌ {task_name} for {subject}/{session}: no valid data segment\")\n",
    "                    continue\n",
    "\n",
    "                # Crop segment\n",
    "                raw_crop = raw.copy().crop(tmin=tmin, tmax=tmax)\n",
    "\n",
    "                # Get session config\n",
    "                cfg = SESSION_CONFIG[session]\n",
    "                on_off_folder = cfg[\"folder\"]  # \"On\" or \"Off\"\n",
    "                file_suffix = cfg[\"suffix\"]   # \"_on\" or \"_off\"\n",
    "\n",
    "                # Create path: crop/On/eyes_closed/\n",
    "                output_task_dir = os.path.join(OUTPUT_BASE_DIR, on_off_folder, task_name)\n",
    "                os.makedirs(output_task_dir, exist_ok=True)\n",
    "\n",
    "                # Simplify subject name: sub-06 → sub6\n",
    "                simple_sub = 'sub' + subject.split('-')[1].lstrip('0')\n",
    "\n",
    "                # Filename includes _on or _off\n",
    "                output_filename = f\"{simple_sub}_{task_name}{file_suffix}{OUTPUT_SUFFIX}\"\n",
    "                output_path = os.path.join(output_task_dir, output_filename)\n",
    "\n",
    "                # Save\n",
    "                raw_crop.save(output_path, overwrite=True)\n",
    "                tqdm.write(f\"✅ Saved: {output_filename} → {output_task_dir} ({tmax-tmin:.1f}s) [{subject}/{session}]\")\n",
    "                success_count += 1\n",
    "\n",
    "        except Exception as e:\n",
    "            tqdm.write(f\"❌ FAILED: {subject}/{session} — {e}\")\n",
    "            failure_count += 1\n",
    "\n",
    "# --- FINAL SUMMARY ---\n",
    "print(f\"\\n\" + \"=\"*80)\n",
    "print(\"🎉 SEGMENTATION COMPLETE\")\n",
    "print(\"=\"*80)\n",
    "print(f\"   Successfully saved segments: {success_count}\")\n",
    "print(f\"   Failed or skipped:           {failure_count}\")\n",
    "print(f\"   Output structure: {OUTPUT_BASE_DIR}/<On|Off>/<task_name>/\")"
   ]
  },
  {
   "cell_type": "code",
   "execution_count": 2,
   "id": "660cbc3a",
   "metadata": {},
   "outputs": [
    {
     "name": "stdout",
     "output_type": "stream",
     "text": [
      "✂️ Found 12 subjects: ['sub-01', 'sub-02', 'sub-03', 'sub-05', 'sub-06', 'sub-07', 'sub-08', 'sub-09', 'sub-10', 'sub-11', 'sub-12', 'sub-14']\n",
      "================================================================================\n"
     ]
    },
    {
     "name": "stderr",
     "output_type": "stream",
     "text": [
      "Processing BIMA (DBSOFF):   0%|          | 0/12 [00:00<?, ?subject/s]"
     ]
    },
    {
     "name": "stdout",
     "output_type": "stream",
     "text": [
      "Opening raw data file /home/jaizor/jaizor/xtra/derivatives/eeg/sub-01/bima_DBSOFF/sub-01_ses-DBSOFF_task-bima_eeg_ica_cleaned_raw.fif...\n",
      "    Range : 125209 ... 340681 =    250.418 ...   681.362 secs\n",
      "Ready.\n",
      "Reading 0 ... 215472  =      0.000 ...   430.944 secs...\n",
      "Writing /home/jaizor/jaizor/xtra/derivatives/crop/Off/bima_activity/sub1_bima_activity_off.fif\n",
      "Closing /home/jaizor/jaizor/xtra/derivatives/crop/Off/bima_activity/sub1_bima_activity_off.fif\n",
      "[done]\n"
     ]
    },
    {
     "name": "stderr",
     "output_type": "stream",
     "text": [
      "/tmp/ipykernel_124489/1756197261.py:123: RuntimeWarning: This filename (/home/jaizor/jaizor/xtra/derivatives/crop/Off/bima_activity/sub1_bima_activity_off.fif) does not conform to MNE naming conventions. All raw files should end with raw.fif, raw_sss.fif, raw_tsss.fif, _meg.fif, _eeg.fif, _ieeg.fif, raw.fif.gz, raw_sss.fif.gz, raw_tsss.fif.gz, _meg.fif.gz, _eeg.fif.gz or _ieeg.fif.gz\n",
      "  raw_crop.save(output_path, overwrite=True)\n",
      "Processing BIMA (DBSOFF):   8%|▊         | 1/12 [00:00<00:10,  1.04subject/s]"
     ]
    },
    {
     "name": "stdout",
     "output_type": "stream",
     "text": [
      "✅ Saved: sub1_bima_activity_off.fif → /home/jaizor/jaizor/xtra/derivatives/crop/Off/bima_activity (60.0s) [sub-01]\n",
      "Opening raw data file /home/jaizor/jaizor/xtra/derivatives/eeg/sub-02/bima_DBSOFF/sub-02_ses-DBSOFF_task-bima_eeg_ica_cleaned_raw.fif...\n",
      "    Range : 57645 ... 306110 =    115.290 ...   612.220 secs\n",
      "Ready.\n",
      "Reading 0 ... 248465  =      0.000 ...   496.930 secs...\n",
      "Writing /home/jaizor/jaizor/xtra/derivatives/crop/Off/bima_activity/sub2_bima_activity_off.fif\n",
      "Closing /home/jaizor/jaizor/xtra/derivatives/crop/Off/bima_activity/sub2_bima_activity_off.fif\n",
      "[done]\n"
     ]
    },
    {
     "name": "stderr",
     "output_type": "stream",
     "text": [
      "/tmp/ipykernel_124489/1756197261.py:123: RuntimeWarning: This filename (/home/jaizor/jaizor/xtra/derivatives/crop/Off/bima_activity/sub2_bima_activity_off.fif) does not conform to MNE naming conventions. All raw files should end with raw.fif, raw_sss.fif, raw_tsss.fif, _meg.fif, _eeg.fif, _ieeg.fif, raw.fif.gz, raw_sss.fif.gz, raw_tsss.fif.gz, _meg.fif.gz, _eeg.fif.gz or _ieeg.fif.gz\n",
      "  raw_crop.save(output_path, overwrite=True)\n",
      "Processing BIMA (DBSOFF):  17%|█▋        | 2/12 [00:01<00:09,  1.05subject/s]"
     ]
    },
    {
     "name": "stdout",
     "output_type": "stream",
     "text": [
      "✅ Saved: sub2_bima_activity_off.fif → /home/jaizor/jaizor/xtra/derivatives/crop/Off/bima_activity (60.0s) [sub-02]\n",
      "Opening raw data file /home/jaizor/jaizor/xtra/derivatives/eeg/sub-03/bima_DBSOFF/sub-03_ses-DBSOFF_task-bima_eeg_ica_cleaned_raw.fif...\n",
      "    Range : 28559 ... 155095 =    114.236 ...   620.380 secs\n",
      "Ready.\n",
      "Reading 0 ... 126536  =      0.000 ...   506.144 secs...\n",
      "Writing /home/jaizor/jaizor/xtra/derivatives/crop/Off/bima_activity/sub3_bima_activity_off.fif\n",
      "Closing /home/jaizor/jaizor/xtra/derivatives/crop/Off/bima_activity/sub3_bima_activity_off.fif\n",
      "[done]\n"
     ]
    },
    {
     "name": "stderr",
     "output_type": "stream",
     "text": [
      "/tmp/ipykernel_124489/1756197261.py:123: RuntimeWarning: This filename (/home/jaizor/jaizor/xtra/derivatives/crop/Off/bima_activity/sub3_bima_activity_off.fif) does not conform to MNE naming conventions. All raw files should end with raw.fif, raw_sss.fif, raw_tsss.fif, _meg.fif, _eeg.fif, _ieeg.fif, raw.fif.gz, raw_sss.fif.gz, raw_tsss.fif.gz, _meg.fif.gz, _eeg.fif.gz or _ieeg.fif.gz\n",
      "  raw_crop.save(output_path, overwrite=True)\n",
      "Processing BIMA (DBSOFF):  25%|██▌       | 3/12 [00:02<00:07,  1.16subject/s]"
     ]
    },
    {
     "name": "stdout",
     "output_type": "stream",
     "text": [
      "✅ Saved: sub3_bima_activity_off.fif → /home/jaizor/jaizor/xtra/derivatives/crop/Off/bima_activity (60.0s) [sub-03]\n",
      "Opening raw data file /home/jaizor/jaizor/xtra/derivatives/eeg/sub-05/bima_DBSOFF/sub-05_ses-DBSOFF_task-bima_eeg_ica_cleaned_raw.fif...\n",
      "    Range : 6941 ... 270457 =     13.882 ...   540.914 secs\n",
      "Ready.\n",
      "Reading 0 ... 263516  =      0.000 ...   527.032 secs...\n",
      "Writing /home/jaizor/jaizor/xtra/derivatives/crop/Off/bima_activity/sub5_bima_activity_off.fif\n",
      "Closing /home/jaizor/jaizor/xtra/derivatives/crop/Off/bima_activity/sub5_bima_activity_off.fif\n",
      "[done]\n"
     ]
    },
    {
     "name": "stderr",
     "output_type": "stream",
     "text": [
      "/tmp/ipykernel_124489/1756197261.py:123: RuntimeWarning: This filename (/home/jaizor/jaizor/xtra/derivatives/crop/Off/bima_activity/sub5_bima_activity_off.fif) does not conform to MNE naming conventions. All raw files should end with raw.fif, raw_sss.fif, raw_tsss.fif, _meg.fif, _eeg.fif, _ieeg.fif, raw.fif.gz, raw_sss.fif.gz, raw_tsss.fif.gz, _meg.fif.gz, _eeg.fif.gz or _ieeg.fif.gz\n",
      "  raw_crop.save(output_path, overwrite=True)\n",
      "Processing BIMA (DBSOFF):  33%|███▎      | 4/12 [00:03<00:07,  1.05subject/s]"
     ]
    },
    {
     "name": "stdout",
     "output_type": "stream",
     "text": [
      "✅ Saved: sub5_bima_activity_off.fif → /home/jaizor/jaizor/xtra/derivatives/crop/Off/bima_activity (60.0s) [sub-05]\n",
      "Opening raw data file /home/jaizor/jaizor/xtra/derivatives/eeg/sub-06/bima_DBSOFF/sub-06_ses-DBSOFF_task-bima_eeg_ica_cleaned_raw.fif...\n",
      "    Range : 22047 ... 285569 =     44.094 ...   571.138 secs\n",
      "Ready.\n",
      "Reading 0 ... 263522  =      0.000 ...   527.044 secs...\n",
      "Writing /home/jaizor/jaizor/xtra/derivatives/crop/Off/bima_activity/sub6_bima_activity_off.fif\n",
      "Closing /home/jaizor/jaizor/xtra/derivatives/crop/Off/bima_activity/sub6_bima_activity_off.fif\n",
      "[done]\n"
     ]
    },
    {
     "name": "stderr",
     "output_type": "stream",
     "text": [
      "/tmp/ipykernel_124489/1756197261.py:123: RuntimeWarning: This filename (/home/jaizor/jaizor/xtra/derivatives/crop/Off/bima_activity/sub6_bima_activity_off.fif) does not conform to MNE naming conventions. All raw files should end with raw.fif, raw_sss.fif, raw_tsss.fif, _meg.fif, _eeg.fif, _ieeg.fif, raw.fif.gz, raw_sss.fif.gz, raw_tsss.fif.gz, _meg.fif.gz, _eeg.fif.gz or _ieeg.fif.gz\n",
      "  raw_crop.save(output_path, overwrite=True)\n",
      "Processing BIMA (DBSOFF):  42%|████▏     | 5/12 [00:04<00:06,  1.12subject/s]"
     ]
    },
    {
     "name": "stdout",
     "output_type": "stream",
     "text": [
      "✅ Saved: sub6_bima_activity_off.fif → /home/jaizor/jaizor/xtra/derivatives/crop/Off/bima_activity (60.0s) [sub-06]\n",
      "Opening raw data file /home/jaizor/jaizor/xtra/derivatives/eeg/sub-07/bima_DBSOFF/sub-07_ses-DBSOFF_task-bima_eeg_ica_cleaned_raw.fif...\n",
      "    Range : 16931 ... 280445 =     33.862 ...   560.890 secs\n",
      "Ready.\n",
      "Reading 0 ... 263514  =      0.000 ...   527.028 secs...\n",
      "Writing /home/jaizor/jaizor/xtra/derivatives/crop/Off/bima_activity/sub7_bima_activity_off.fif\n",
      "Closing /home/jaizor/jaizor/xtra/derivatives/crop/Off/bima_activity/sub7_bima_activity_off.fif\n",
      "[done]\n"
     ]
    },
    {
     "name": "stderr",
     "output_type": "stream",
     "text": [
      "/tmp/ipykernel_124489/1756197261.py:123: RuntimeWarning: This filename (/home/jaizor/jaizor/xtra/derivatives/crop/Off/bima_activity/sub7_bima_activity_off.fif) does not conform to MNE naming conventions. All raw files should end with raw.fif, raw_sss.fif, raw_tsss.fif, _meg.fif, _eeg.fif, _ieeg.fif, raw.fif.gz, raw_sss.fif.gz, raw_tsss.fif.gz, _meg.fif.gz, _eeg.fif.gz or _ieeg.fif.gz\n",
      "  raw_crop.save(output_path, overwrite=True)\n",
      "Processing BIMA (DBSOFF):  50%|█████     | 6/12 [00:05<00:04,  1.22subject/s]"
     ]
    },
    {
     "name": "stdout",
     "output_type": "stream",
     "text": [
      "✅ Saved: sub7_bima_activity_off.fif → /home/jaizor/jaizor/xtra/derivatives/crop/Off/bima_activity (60.0s) [sub-07]\n",
      "Opening raw data file /home/jaizor/jaizor/xtra/derivatives/eeg/sub-08/bima_DBSOFF/sub-08_ses-DBSOFF_task-bima_eeg_ica_cleaned_raw.fif...\n",
      "    Range : 87080 ... 350560 =    174.160 ...   701.120 secs\n",
      "Ready.\n",
      "Reading 0 ... 263480  =      0.000 ...   526.960 secs...\n",
      "Writing /home/jaizor/jaizor/xtra/derivatives/crop/Off/bima_activity/sub8_bima_activity_off.fif\n",
      "Closing /home/jaizor/jaizor/xtra/derivatives/crop/Off/bima_activity/sub8_bima_activity_off.fif\n",
      "[done]\n"
     ]
    },
    {
     "name": "stderr",
     "output_type": "stream",
     "text": [
      "/tmp/ipykernel_124489/1756197261.py:123: RuntimeWarning: This filename (/home/jaizor/jaizor/xtra/derivatives/crop/Off/bima_activity/sub8_bima_activity_off.fif) does not conform to MNE naming conventions. All raw files should end with raw.fif, raw_sss.fif, raw_tsss.fif, _meg.fif, _eeg.fif, _ieeg.fif, raw.fif.gz, raw_sss.fif.gz, raw_tsss.fif.gz, _meg.fif.gz, _eeg.fif.gz or _ieeg.fif.gz\n",
      "  raw_crop.save(output_path, overwrite=True)\n",
      "Processing BIMA (DBSOFF):  58%|█████▊    | 7/12 [00:05<00:03,  1.29subject/s]"
     ]
    },
    {
     "name": "stdout",
     "output_type": "stream",
     "text": [
      "✅ Saved: sub8_bima_activity_off.fif → /home/jaizor/jaizor/xtra/derivatives/crop/Off/bima_activity (60.0s) [sub-08]\n",
      "Opening raw data file /home/jaizor/jaizor/xtra/derivatives/eeg/sub-09/bima_DBSOFF/sub-09_ses-DBSOFF_task-bima_eeg_ica_cleaned_raw.fif...\n",
      "    Range : 21695 ... 285200 =     43.390 ...   570.400 secs\n",
      "Ready.\n",
      "Reading 0 ... 263505  =      0.000 ...   527.010 secs...\n",
      "Writing /home/jaizor/jaizor/xtra/derivatives/crop/Off/bima_activity/sub9_bima_activity_off.fif\n",
      "Closing /home/jaizor/jaizor/xtra/derivatives/crop/Off/bima_activity/sub9_bima_activity_off.fif\n",
      "[done]\n"
     ]
    },
    {
     "name": "stderr",
     "output_type": "stream",
     "text": [
      "/tmp/ipykernel_124489/1756197261.py:123: RuntimeWarning: This filename (/home/jaizor/jaizor/xtra/derivatives/crop/Off/bima_activity/sub9_bima_activity_off.fif) does not conform to MNE naming conventions. All raw files should end with raw.fif, raw_sss.fif, raw_tsss.fif, _meg.fif, _eeg.fif, _ieeg.fif, raw.fif.gz, raw_sss.fif.gz, raw_tsss.fif.gz, _meg.fif.gz, _eeg.fif.gz or _ieeg.fif.gz\n",
      "  raw_crop.save(output_path, overwrite=True)\n",
      "Processing BIMA (DBSOFF):  67%|██████▋   | 8/12 [00:06<00:03,  1.29subject/s]"
     ]
    },
    {
     "name": "stdout",
     "output_type": "stream",
     "text": [
      "✅ Saved: sub9_bima_activity_off.fif → /home/jaizor/jaizor/xtra/derivatives/crop/Off/bima_activity (60.0s) [sub-09]\n",
      "Opening raw data file /home/jaizor/jaizor/xtra/derivatives/eeg/sub-10/bima_DBSOFF/sub-10_ses-DBSOFF_task-bima_eeg_ica_cleaned_raw.fif...\n",
      "    Range : 30050 ... 293573 =     60.100 ...   587.146 secs\n",
      "Ready.\n",
      "Reading 0 ... 263523  =      0.000 ...   527.046 secs...\n",
      "Writing /home/jaizor/jaizor/xtra/derivatives/crop/Off/bima_activity/sub10_bima_activity_off.fif\n",
      "Closing /home/jaizor/jaizor/xtra/derivatives/crop/Off/bima_activity/sub10_bima_activity_off.fif\n",
      "[done]\n"
     ]
    },
    {
     "name": "stderr",
     "output_type": "stream",
     "text": [
      "/tmp/ipykernel_124489/1756197261.py:123: RuntimeWarning: This filename (/home/jaizor/jaizor/xtra/derivatives/crop/Off/bima_activity/sub10_bima_activity_off.fif) does not conform to MNE naming conventions. All raw files should end with raw.fif, raw_sss.fif, raw_tsss.fif, _meg.fif, _eeg.fif, _ieeg.fif, raw.fif.gz, raw_sss.fif.gz, raw_tsss.fif.gz, _meg.fif.gz, _eeg.fif.gz or _ieeg.fif.gz\n",
      "  raw_crop.save(output_path, overwrite=True)\n",
      "Processing BIMA (DBSOFF):  75%|███████▌  | 9/12 [00:07<00:02,  1.33subject/s]"
     ]
    },
    {
     "name": "stdout",
     "output_type": "stream",
     "text": [
      "✅ Saved: sub10_bima_activity_off.fif → /home/jaizor/jaizor/xtra/derivatives/crop/Off/bima_activity (60.0s) [sub-10]\n",
      "Opening raw data file /home/jaizor/jaizor/xtra/derivatives/eeg/sub-11/bima_DBSOFF/sub-11_ses-DBSOFF_task-bima_eeg_ica_cleaned_raw.fif...\n",
      "    Range : 7529 ... 139207 =     30.116 ...   556.828 secs\n",
      "Ready.\n",
      "Reading 0 ... 131678  =      0.000 ...   526.712 secs...\n",
      "Writing /home/jaizor/jaizor/xtra/derivatives/crop/Off/bima_activity/sub11_bima_activity_off.fif\n",
      "Closing /home/jaizor/jaizor/xtra/derivatives/crop/Off/bima_activity/sub11_bima_activity_off.fif\n",
      "[done]\n"
     ]
    },
    {
     "name": "stderr",
     "output_type": "stream",
     "text": [
      "/tmp/ipykernel_124489/1756197261.py:123: RuntimeWarning: This filename (/home/jaizor/jaizor/xtra/derivatives/crop/Off/bima_activity/sub11_bima_activity_off.fif) does not conform to MNE naming conventions. All raw files should end with raw.fif, raw_sss.fif, raw_tsss.fif, _meg.fif, _eeg.fif, _ieeg.fif, raw.fif.gz, raw_sss.fif.gz, raw_tsss.fif.gz, _meg.fif.gz, _eeg.fif.gz or _ieeg.fif.gz\n",
      "  raw_crop.save(output_path, overwrite=True)\n",
      "Processing BIMA (DBSOFF):  83%|████████▎ | 10/12 [00:07<00:01,  1.55subject/s]"
     ]
    },
    {
     "name": "stdout",
     "output_type": "stream",
     "text": [
      "✅ Saved: sub11_bima_activity_off.fif → /home/jaizor/jaizor/xtra/derivatives/crop/Off/bima_activity (60.0s) [sub-11]\n",
      "Opening raw data file /home/jaizor/jaizor/xtra/derivatives/eeg/sub-12/bima_DBSOFF/sub-12_ses-DBSOFF_task-bima_eeg_ica_cleaned_raw.fif...\n",
      "    Range : 32867 ... 243522 =     65.734 ...   487.044 secs\n",
      "Ready.\n",
      "Reading 0 ... 210655  =      0.000 ...   421.310 secs...\n",
      "Writing /home/jaizor/jaizor/xtra/derivatives/crop/Off/bima_activity/sub12_bima_activity_off.fif\n",
      "Closing /home/jaizor/jaizor/xtra/derivatives/crop/Off/bima_activity/sub12_bima_activity_off.fif\n",
      "[done]\n"
     ]
    },
    {
     "name": "stderr",
     "output_type": "stream",
     "text": [
      "/tmp/ipykernel_124489/1756197261.py:123: RuntimeWarning: This filename (/home/jaizor/jaizor/xtra/derivatives/crop/Off/bima_activity/sub12_bima_activity_off.fif) does not conform to MNE naming conventions. All raw files should end with raw.fif, raw_sss.fif, raw_tsss.fif, _meg.fif, _eeg.fif, _ieeg.fif, raw.fif.gz, raw_sss.fif.gz, raw_tsss.fif.gz, _meg.fif.gz, _eeg.fif.gz or _ieeg.fif.gz\n",
      "  raw_crop.save(output_path, overwrite=True)\n",
      "Processing BIMA (DBSOFF):  92%|█████████▏| 11/12 [00:08<00:00,  1.61subject/s]"
     ]
    },
    {
     "name": "stdout",
     "output_type": "stream",
     "text": [
      "✅ Saved: sub12_bima_activity_off.fif → /home/jaizor/jaizor/xtra/derivatives/crop/Off/bima_activity (60.0s) [sub-12]\n",
      "Opening raw data file /home/jaizor/jaizor/xtra/derivatives/eeg/sub-14/bima_DBSOFF/sub-14_ses-DBSOFF_task-bima_eeg_ica_cleaned_raw.fif...\n",
      "    Range : 61063 ... 324418 =    122.126 ...   648.836 secs\n",
      "Ready.\n",
      "Reading 0 ... 263355  =      0.000 ...   526.710 secs...\n",
      "Writing /home/jaizor/jaizor/xtra/derivatives/crop/Off/bima_activity/sub14_bima_activity_off.fif\n",
      "Closing /home/jaizor/jaizor/xtra/derivatives/crop/Off/bima_activity/sub14_bima_activity_off.fif\n",
      "[done]\n"
     ]
    },
    {
     "name": "stderr",
     "output_type": "stream",
     "text": [
      "/tmp/ipykernel_124489/1756197261.py:123: RuntimeWarning: This filename (/home/jaizor/jaizor/xtra/derivatives/crop/Off/bima_activity/sub14_bima_activity_off.fif) does not conform to MNE naming conventions. All raw files should end with raw.fif, raw_sss.fif, raw_tsss.fif, _meg.fif, _eeg.fif, _ieeg.fif, raw.fif.gz, raw_sss.fif.gz, raw_tsss.fif.gz, _meg.fif.gz, _eeg.fif.gz or _ieeg.fif.gz\n",
      "  raw_crop.save(output_path, overwrite=True)\n",
      "Processing BIMA (DBSOFF): 100%|██████████| 12/12 [00:09<00:00,  1.33subject/s]"
     ]
    },
    {
     "name": "stdout",
     "output_type": "stream",
     "text": [
      "✅ Saved: sub14_bima_activity_off.fif → /home/jaizor/jaizor/xtra/derivatives/crop/Off/bima_activity (60.0s) [sub-14]\n",
      "\n",
      "================================================================================\n",
      "🎉 BIMA SEGMENTATION COMPLETE\n",
      "================================================================================\n",
      "   Successfully saved segments: 12\n",
      "   Failed or skipped:           0\n",
      "   Output structure: /home/jaizor/jaizor/xtra/derivatives/crop/Off/bima_activity/\n"
     ]
    },
    {
     "name": "stderr",
     "output_type": "stream",
     "text": [
      "\n"
     ]
    }
   ],
   "source": [
    "# ✂️ BIMA SEGMENTATION (DBSOFF ONLY) → Start at '1a' Onset\n",
    "# Output: derivatives/crop/Off/bima_activity/subX_bima_activity_off.fif\n",
    "\n",
    "# %%\n",
    "import os\n",
    "import mne\n",
    "import numpy as np\n",
    "from tqdm import tqdm\n",
    "\n",
    "# --- CONFIGURATION ---\n",
    "BASE_DERIVATIVES_DIR = \"/home/jaizor/jaizor/xtra/derivatives/eeg\"\n",
    "OUTPUT_BASE_DIR = \"/home/jaizor/jaizor/xtra/derivatives/crop\"  # ← Unified with other script\n",
    "\n",
    "TASK = \"bima\"\n",
    "SESSION = \"DBSOFF\"          # Only process DBSOFF\n",
    "TRIGGER = '1a'\n",
    "TASK_NAME = 'bima_activity' # lowercase\n",
    "DURATION = 60.0\n",
    "OUTPUT_SUFFIX = \".fif\"\n",
    "\n",
    "# Session → folder and suffix mapping (even though only one session)\n",
    "SESSION_CONFIG = {\n",
    "    \"DBSOFF\": {\"folder\": \"Off\", \"suffix\": \"_off\"}\n",
    "}\n",
    "\n",
    "# --- GET ALL SUBJECTS ---\n",
    "def get_all_subjects(base_dir: str) -> list:\n",
    "    subjects = []\n",
    "    for item in os.listdir(base_dir):\n",
    "        if item.startswith('sub-'):\n",
    "            subjects.append(item)\n",
    "    return sorted(subjects, key=lambda x: int(x.split('-')[1]))\n",
    "\n",
    "subjects = get_all_subjects(BASE_DERIVATIVES_DIR)\n",
    "print(f\"✂️ Found {len(subjects)} subjects: {subjects}\")\n",
    "print(\"=\"*80)\n",
    "\n",
    "# --- DETECT FIRST '1a' ONSET ---\n",
    "def detect_first_1a_onset(raw: mne.io.Raw) -> float:\n",
    "    if TRIGGER not in raw.ch_names:\n",
    "        print(f\"    ❌ Trigger '{TRIGGER}' not found in channels!\")\n",
    "        return None\n",
    "\n",
    "    data = raw.get_data(picks=[TRIGGER])[0]\n",
    "    diff = np.diff((data > 0.5).astype(int))  # Rising edge: detect 0→1\n",
    "    onset_indices = np.where(diff == 1)[0] + 1\n",
    "    sfreq = raw.info['sfreq']\n",
    "    onset_times = onset_indices / sfreq\n",
    "\n",
    "    if len(onset_times) == 0:\n",
    "        print(f\"    ⚠️  No rising edges detected for '{TRIGGER}'!\")\n",
    "        return None\n",
    "\n",
    "    return onset_times[0]  # First trigger onset\n",
    "\n",
    "# --- MAIN PROCESSING LOOP ---\n",
    "success_count = 0\n",
    "failure_count = 0\n",
    "\n",
    "for subject in tqdm(subjects, desc=\"Processing BIMA (DBSOFF)\", unit=\"subject\"):\n",
    "    # Build file path\n",
    "    task_session_dir = os.path.join(BASE_DERIVATIVES_DIR, subject, f\"{TASK}_{SESSION}\")\n",
    "    filename = f\"{subject}_ses-{SESSION}_task-{TASK}_eeg_ica_cleaned_raw.fif\"\n",
    "    filepath = os.path.join(task_session_dir, filename)\n",
    "\n",
    "    if not os.path.exists(filepath):\n",
    "        tqdm.write(f\"⚠️  File not found: {filename} ({subject})\")\n",
    "        failure_count += 1\n",
    "        continue\n",
    "\n",
    "    try:\n",
    "        # Load data\n",
    "        raw = mne.io.read_raw_fif(filepath, preload=True)\n",
    "        total_duration = raw.times[-1]\n",
    "\n",
    "        # Detect first '1a' trigger onset\n",
    "        onset = detect_first_1a_onset(raw)\n",
    "        if onset is None:\n",
    "            tqdm.write(f\"❌ Skipping {subject}: could not detect '{TRIGGER}' onset\")\n",
    "            failure_count += 1\n",
    "            continue\n",
    "\n",
    "        tmin = onset\n",
    "        tmax = tmin + DURATION\n",
    "\n",
    "        # Validate time bounds\n",
    "        if tmin >= total_duration:\n",
    "            tqdm.write(f\"❌ {subject}: start {tmin:.3f}s > total duration {total_duration:.3f}s\")\n",
    "            failure_count += 1\n",
    "            continue\n",
    "        if tmin < 0:\n",
    "            tqdm.write(f\"❌ {subject}: invalid start time {tmin:.3f}s\")\n",
    "            failure_count += 1\n",
    "            continue\n",
    "        if tmax > total_duration:\n",
    "            tqdm.write(f\"⚠️  {subject}: truncating segment from {tmax:.3f}s to {total_duration:.3f}s\")\n",
    "            tmax = total_duration\n",
    "        if tmax <= tmin:\n",
    "            tqdm.write(f\"❌ {subject}: empty time segment ({tmin:.3f}s to {tmax:.3f}s)\")\n",
    "            failure_count += 1\n",
    "            continue\n",
    "\n",
    "        # Crop segment\n",
    "        raw_crop = raw.copy().crop(tmin=tmin, tmax=tmax)\n",
    "\n",
    "        # Get output config\n",
    "        cfg = SESSION_CONFIG[SESSION]\n",
    "        on_off_folder = cfg[\"folder\"]   # \"Off\"\n",
    "        file_suffix = cfg[\"suffix\"]     # \"_off\"\n",
    "\n",
    "        # Create output directory: crop/Off/bima_activity/\n",
    "        output_task_dir = os.path.join(OUTPUT_BASE_DIR, on_off_folder, TASK_NAME)\n",
    "        os.makedirs(output_task_dir, exist_ok=True)\n",
    "\n",
    "        # Simplify subject name: sub-06 → sub6\n",
    "        simple_sub = 'sub' + subject.split('-')[1].lstrip('0')\n",
    "\n",
    "        # Filename includes _off\n",
    "        output_filename = f\"{simple_sub}_{TASK_NAME}{file_suffix}{OUTPUT_SUFFIX}\"\n",
    "        output_path = os.path.join(output_task_dir, output_filename)\n",
    "\n",
    "        # Save cropped data\n",
    "        raw_crop.save(output_path, overwrite=True)\n",
    "        tqdm.write(f\"✅ Saved: {output_filename} → {output_task_dir} ({tmax - tmin:.1f}s) [{subject}]\")\n",
    "        success_count += 1\n",
    "\n",
    "    except Exception as e:\n",
    "        tqdm.write(f\"❌ FAILED: {subject} — {e}\")\n",
    "        failure_count += 1\n",
    "\n",
    "# --- FINAL SUMMARY ---\n",
    "print(f\"\\n\" + \"=\"*80)\n",
    "print(\"🎉 BIMA SEGMENTATION COMPLETE\")\n",
    "print(\"=\"*80)\n",
    "print(f\"   Successfully saved segments: {success_count}\")\n",
    "print(f\"   Failed or skipped:           {failure_count}\")\n",
    "print(f\"   Output structure: {OUTPUT_BASE_DIR}/Off/{TASK_NAME}/\")"
   ]
  }
 ],
 "metadata": {
  "kernelspec": {
   "display_name": "Xtra",
   "language": "python",
   "name": "python3"
  },
  "language_info": {
   "codemirror_mode": {
    "name": "ipython",
    "version": 3
   },
   "file_extension": ".py",
   "mimetype": "text/x-python",
   "name": "python",
   "nbconvert_exporter": "python",
   "pygments_lexer": "ipython3",
   "version": "3.13.5"
  }
 },
 "nbformat": 4,
 "nbformat_minor": 5
}
